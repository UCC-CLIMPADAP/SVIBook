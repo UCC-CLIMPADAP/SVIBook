{
 "cells": [
  {
   "cell_type": "markdown",
   "metadata": {},
   "source": [
    "# Census Data to Indicators\n",
    "\n"
   ]
  },
  {
   "cell_type": "code",
   "execution_count": 1,
   "metadata": {},
   "outputs": [],
   "source": [
    "# NEED TO TAKE LAST FOUR DIGITS OF KALCODE TO LINK TO OA"
   ]
  },
  {
   "cell_type": "markdown",
   "metadata": {},
   "source": [
    "### R Libraries\n",
    "\n",
    "The relvant R libraries are imported in to the kernal:"
   ]
  },
  {
   "cell_type": "code",
   "execution_count": 2,
   "metadata": {},
   "outputs": [
    {
     "name": "stderr",
     "output_type": "stream",
     "text": [
      "Loading required package: pacman\n",
      "\n"
     ]
    },
    {
     "name": "stdout",
     "output_type": "stream",
     "text": [
      "[1] \"Loaded Packages:\"\n"
     ]
    },
    {
     "data": {
      "text/html": [
       "<style>\n",
       ".list-inline {list-style: none; margin:0; padding: 0}\n",
       ".list-inline>li {display: inline-block}\n",
       ".list-inline>li:not(:last-child)::after {content: \"\\00b7\"; padding: 0 .5ex}\n",
       "</style>\n",
       "<ol class=list-inline><li>'xlsx'</li><li>'lubridate'</li><li>'forcats'</li><li>'stringr'</li><li>'readr'</li><li>'tidyr'</li><li>'tibble'</li><li>'ggplot2'</li><li>'tidyverse'</li><li>'purrr'</li><li>'sf'</li><li>'dplyr'</li><li>'pacman'</li></ol>\n"
      ],
      "text/latex": [
       "\\begin{enumerate*}\n",
       "\\item 'xlsx'\n",
       "\\item 'lubridate'\n",
       "\\item 'forcats'\n",
       "\\item 'stringr'\n",
       "\\item 'readr'\n",
       "\\item 'tidyr'\n",
       "\\item 'tibble'\n",
       "\\item 'ggplot2'\n",
       "\\item 'tidyverse'\n",
       "\\item 'purrr'\n",
       "\\item 'sf'\n",
       "\\item 'dplyr'\n",
       "\\item 'pacman'\n",
       "\\end{enumerate*}\n"
      ],
      "text/markdown": [
       "1. 'xlsx'\n",
       "2. 'lubridate'\n",
       "3. 'forcats'\n",
       "4. 'stringr'\n",
       "5. 'readr'\n",
       "6. 'tidyr'\n",
       "7. 'tibble'\n",
       "8. 'ggplot2'\n",
       "9. 'tidyverse'\n",
       "10. 'purrr'\n",
       "11. 'sf'\n",
       "12. 'dplyr'\n",
       "13. 'pacman'\n",
       "\n",
       "\n"
      ],
      "text/plain": [
       " [1] \"xlsx\"      \"lubridate\" \"forcats\"   \"stringr\"   \"readr\"     \"tidyr\"    \n",
       " [7] \"tibble\"    \"ggplot2\"   \"tidyverse\" \"purrr\"     \"sf\"        \"dplyr\"    \n",
       "[13] \"pacman\"   "
      ]
     },
     "metadata": {},
     "output_type": "display_data"
    }
   ],
   "source": [
    "# libraries\n",
    "# Load R libraries\n",
    " if(!require(\"pacman\"))\n",
    "     install.packages(\"pacman\")\n",
    "     library(\"pacman\")\n",
    "\n",
    "p_load(\"dplyr\", \"sf\", \"purrr\", \"tidyverse\", \"xlsx\")\n",
    "\n",
    "print(\"Loaded Packages:\")\n",
    "p_loaded()"
   ]
  },
  {
   "cell_type": "code",
   "execution_count": 3,
   "metadata": {},
   "outputs": [],
   "source": [
    "# create the pipeline directory if it does not exist\n",
    "pipelineDir <- file.path(\"../..\",\"2_pipeline\",\"Athens\",\"1a_CensusData\",\"2011\")\n",
    "if(!dir.exists(pipelineDir)){\n",
    "    dir.create(pipelineDir, recursive = TRUE)\n",
    "    print(paste0(pipelineDir, \" created\"))\n",
    "}\n",
    "\n",
    "## create the export directory if it does not exist\n",
    "#exportDir <- file.path(\"../..\",\"0_data\",\"Athens\",\"GreekCensus\", \"2011\",\"english\",\"processed\")\n",
    "#if(!dir.exists(exportDir)){\n",
    "#    dir.create(exportDir, recursive = TRUE)\n",
    "#    print(paste0(exportDir, \" created\"))\n",
    "#}\n",
    "##exportDir <- \"../0_data/Athens/GreekCensus/2011/english/processed/\""
   ]
  },
  {
   "cell_type": "markdown",
   "metadata": {},
   "source": [
    "## Census Data\n",
    "\n",
    "The Greek census data is available from https://www.statistics.gr/el/2011-census-pop-hous. Don't use the English version of the website as not all the data is displayed - just use Google Translate version. The data used is at the 'Municipality' level, this is the smallest spatial resolution available. These are the data that have the 'B' prefix.\n",
    "\n",
    "The data is available here:\n",
    "\n",
    "- Demographic characteristics / 2011 https://www.statistics.gr/el/statistics/-/publication/SAM03/2011\n",
    "- Characteristics of houses - households / 2011 https://www.statistics.gr/el/statistics/-/publication/SAM05/2011\n",
    "- Economic characteristics / 2011 https://www.statistics.gr/el/statistics/-/publication/SAM04/2011\n",
    "- The spatial data is available from [http://gisc.gr/en/data/](http://gisc.gr/en/data/)\n"
   ]
  },
  {
   "cell_type": "markdown",
   "metadata": {},
   "source": [
    "## Processing of Census Data\n",
    "\n",
    "The Greek 2011 Census is in a number of csvs, in Greek, with variations in the data structure. The files need to be translated and processed into the same format. that need to be combined into a single dataset"
   ]
  },
  {
   "cell_type": "code",
   "execution_count": 4,
   "metadata": {},
   "outputs": [],
   "source": [
    "# need to convert to xlsx so they can be translated\n",
    "files <- list.files(\"../../0_data/Athens/GreekCensus/2011/english/\", pattern = \".xlsx$\", full.names = TRUE,)\n",
    "\n",
    "# files are then translated one by one with google translate"
   ]
  },
  {
   "cell_type": "code",
   "execution_count": 5,
   "metadata": {},
   "outputs": [],
   "source": [
    "# # get the files in a standard format - only need to run this once\n",
    "# for(i in files){\n",
    "    \n",
    "#     # remove fieldNames\n",
    "#     if(exists(\"fieldNames\")){\n",
    "#         remove(\"fieldNames\")\n",
    "#     }\n",
    "\n",
    "#     file <- read.xlsx(file = i, 1, check.names = FALSE, endRow = 10)\n",
    "    \n",
    "#     #get the table name summary\n",
    "#     tableName <- names(file)[1]\n",
    "    \n",
    "#     print(paste0('Processing: ', tableName))\n",
    "#     print(basename(i))\n",
    "    \n",
    "#     # get the row the data starts on\n",
    "#     #function\n",
    "#     matches <- apply(file,1,function(x) sum(grepl(\"TOTAL COUNTRY\",x)))>0\n",
    "    \n",
    "#     dataStartRow <- as.numeric(row.names(file[matches,]))\n",
    "#     print(paste0('Data starts on row: ', dataStartRow))\n",
    "#     flush.console()\n",
    "    \n",
    "#     #get the number of columns that are not all na\n",
    "#     dataEndCol <- ncol(file[, colSums(is.na(file)) != nrow(file)])\n",
    "    \n",
    "#     #check all cols are not NA\n",
    "#     noNAColCheck <- FALSE\n",
    "    \n",
    "#     while(noNAColCheck == FALSE){\n",
    "#         # read the data\n",
    "#         file <- read.xlsx(file = i, 1, check.names = FALSE, endRow = dataStartRow-1, colIndex = c(1:dataEndCol))\n",
    "        \n",
    "#         # a row to the start row\n",
    "#         dataStartRow <- dataStartRow +1\n",
    "#         print(dataStartRow)\n",
    "        \n",
    "#         # check to see if any columns are NA\n",
    "#         noNAColCheck <- length(as.vector(which(colSums(is.na(file)) == nrow(file)))) == 0\n",
    "#     }\n",
    "        \n",
    "#     # check to see if all columns have data\n",
    "#     if(length(as.vector(which(colSums(is.na(file)) == nrow(file)))) > 0){\n",
    "        \n",
    "#     }\n",
    "                     \n",
    "#     for(col in 1:ncol(file)){\n",
    "#         row <- dataStartRow-1\n",
    "#         cell <- NA\n",
    "#         while(is.na(cell)){\n",
    "#             cell <- as.character(file[row,col])\n",
    "#             row <- row-1\n",
    "#         }      \n",
    "\n",
    "# #         print(paste0(\"Field name: \", cell))\n",
    "\n",
    "#         # make a vector of fieldnames\n",
    "#         if(!exists(\"fieldNames\")){\n",
    "#             fieldNames <- c(as.character(cell))\n",
    "#         } else {\n",
    "#             fieldNames <- append(fieldNames, cell )\n",
    "#         }\n",
    "\n",
    "\n",
    "#     }\n",
    "    \n",
    "#     # ingest data and give the correct field names\n",
    "#     file <- read.xlsx(file = i, 1, check.names = FALSE, startRow = dataStartRow-1, colIndex = c(1:dataEndCol))\n",
    "#     names(file) <- fieldNames \n",
    "    \n",
    "#     # shorten the name of the file \n",
    "#     splitName <- str_trim(str_split(tableName, patter=\"\\\\.\", simplify = TRUE))\n",
    "    \n",
    "#     # create the export file name\n",
    "#     fileNameExport <- paste0(sub(pattern = \"(.*)\\\\..*$\", replacement = \"\\\\1\", basename(i)), \"_\", paste(splitName[2:length(splitName)], collapse=\"_\"))\n",
    "#     print(fileNameExport)\n",
    "#     flush.console()\n",
    "                     \n",
    "#     #export\n",
    "#     write.csv(file, paste0(exportDir,  str_trunc(fileNameExport, 175, \"right\"), \".csv\"), row.names=FALSE)\n",
    "#     print(paste0(exportDir, fileNameExport))\n",
    "# }"
   ]
  },
  {
   "cell_type": "markdown",
   "metadata": {},
   "source": [
    "### Import Census Output Areas \n",
    "\n",
    "The spatial output areas need to be ingested."
   ]
  },
  {
   "cell_type": "code",
   "execution_count": 6,
   "metadata": {},
   "outputs": [
    {
     "name": "stdout",
     "output_type": "stream",
     "text": [
      "Reading layer `GR.Municipalities' from data source \n",
      "  `/Cities/0_data/Athens/OA/GR.Municipalities.shp' using driver `ESRI Shapefile'\n",
      "Simple feature collection with 325 features and 14 fields\n",
      "Geometry type: MULTIPOLYGON\n",
      "Dimension:     XY\n",
      "Bounding box:  xmin: 104040.7 ymin: 3850938 xmax: 1007943 ymax: 4624010\n",
      "Projected CRS: GGRS87 / Greek Grid\n"
     ]
    }
   ],
   "source": [
    "#set the path to the census OA directory\n",
    "censusOAPath <- \"../../0_data/Athens/OA/GR.Municipalities.shp\"\n",
    "\n",
    "#read the OA data\n",
    "censusOA <- st_read(censusOAPath)"
   ]
  },
  {
   "cell_type": "markdown",
   "metadata": {},
   "source": [
    "## Census Read"
   ]
  },
  {
   "cell_type": "code",
   "execution_count": 7,
   "metadata": {},
   "outputs": [],
   "source": [
    "#set the path to the census directory\n",
    "censusPath <- \"../../0_data/Athens/GreekCensus/2011/english/processed/\""
   ]
  },
  {
   "cell_type": "markdown",
   "metadata": {},
   "source": [
    "## Select only the relevant data\n",
    "\n",
    "We only require a subset of the census data for our purposes. We therefore need to extract the relevant data, then combine these to create our vulnerability indicators.\n"
   ]
  },
  {
   "cell_type": "markdown",
   "metadata": {},
   "source": [
    "### Persons Level Data\n",
    "\n",
    "We then get the persons level data and combine the variables together to create indicators:"
   ]
  },
  {
   "cell_type": "code",
   "execution_count": 8,
   "metadata": {},
   "outputs": [],
   "source": [
    "# Total population\n",
    "#get the data\n",
    "totalPopData <- read.csv(paste0(censusPath, \"A1602_SAM03_TB_DC_00_2011_B04_F_GR_Population Census 2011_Permanent Population by gender and marital status.csv\"), check.names = FALSE)\n",
    "\n",
    "#select the relevant rows, total, number of females\n",
    "totalPop <- totalPopData[, c(1:2, 4,14), drop = FALSE]\n",
    "\n",
    "# rename columns\n",
    "totalPop <- totalPop %>%\n",
    "  rename(total_pop_count = \" Total\",\n",
    "        total_female_count = \" Total.1\")"
   ]
  },
  {
   "cell_type": "code",
   "execution_count": 9,
   "metadata": {},
   "outputs": [],
   "source": [
    "# Education\n",
    "# They left primary school, but can read and write / They completed pre-school education / They do not know how to read and write\n",
    "educationData <- read.csv(paste0(censusPath, \"A1602_SAM03_TB_DC_00_2011_B06_F_GR_Population Census 2011_Permanent Population by gender and level of education.csv\"), check.names = FALSE)\n",
    "\n",
    "#select the relevant rows\n",
    "education <- educationData[, c(1:2, 10), drop = FALSE]\n",
    "\n",
    "# rename columns\n",
    "education <- education %>%\n",
    "  rename(low_edu_attainment_count = \" They left primary school, but can read and write / They completed pre-school education / They do not know how to read and write\")"
   ]
  },
  {
   "cell_type": "code",
   "execution_count": 10,
   "metadata": {},
   "outputs": [],
   "source": [
    "# forgein citizens\n",
    "# Other countries / Without citizenship or unspecified citizenship or did not declare\n",
    "citizenshipData <- read.csv(paste0(censusPath, \"A1602_SAM03_TB_DC_00_2011_B09_F_GR_Population Census 2011_Permanent Population by groups of nationalities.csv\"), check.names = FALSE)\n",
    "\n",
    "#select the relevant rows\n",
    "citizenship <- citizenshipData[, c(1:2, 8), drop = FALSE]\n",
    "\n",
    "# rename columns\n",
    "citizenship <- citizenship %>%\n",
    "  rename(foreign_count =  ' Other countries / Without citizenship or unspecified citizenship or did not declare')"
   ]
  },
  {
   "cell_type": "code",
   "execution_count": 11,
   "metadata": {},
   "outputs": [],
   "source": [
    "# unemployed # REDO - totals incorrect\n",
    "# total unemployed\n",
    "unemployedData <- read.csv(paste0(censusPath, \"A1602_SAM04_TB_DC_00_2011_B02_F_GR_Population Census 2011_Permanent Population, by gender and occupation status.csv\"), check.names = FALSE)\n",
    "\n",
    "#select the relevant rows\n",
    "unemployed <- unemployedData[, c(2, 7), drop = FALSE]\n",
    "\n",
    "ids <- unique(unemployed$` Geographical code`)\n",
    "\n",
    "\n",
    "if(exists(\"unemployedMunData\")){\n",
    "    remove(\"unemployedMunData\")\n",
    "}\n",
    "\n",
    "for(i in ids){\n",
    "    \n",
    "    #get the municpality data\n",
    "    munData <- unemployed %>% filter(` Geographical code` == i)\n",
    "    \n",
    "#     #get the total\n",
    "    munTotal <- munData[1:1,]$` Total`\n",
    "    \n",
    "    # create a df\n",
    "    munDF <-  data.frame(Geographical.code = i, total = munTotal)\n",
    "    \n",
    "    if(!exists(\"unemployedMunData\")){\n",
    "        unemployedMunData <- munDF\n",
    "    } else {\n",
    "        unemployedMunData <- rbind(unemployedMunData, munDF)\n",
    "    }\n",
    "   \n",
    "}\n",
    "\n",
    "# rename columns\n",
    "unemployed <- unemployedMunData %>%\n",
    "  rename(unemployed_count = 'total')\n",
    "\n",
    "\n",
    "# head(unemployed)\n",
    "\n",
    "# CALC PERC\n",
    "if(exists(\"unemployedMunTotalData\")){\n",
    "    remove(\"unemployedMunTotalData\")\n",
    "}\n",
    "\n",
    "unemployedTotalData <- unemployedData[, c(2, 4), drop = FALSE]\n",
    "\n",
    "for(i in ids){\n",
    "    \n",
    "    #get the municpality data\n",
    "    munTotalData <- unemployedTotalData %>% filter(` Geographical code` == i)\n",
    "    \n",
    "#     #get the total\n",
    "    munTotal <- munTotalData[1:1,]$` Total`\n",
    "    \n",
    "    # create a df\n",
    "    munTotalDF <-  data.frame(Geographical.code = i, total = munTotal)\n",
    "    \n",
    "    if(!exists(\"unemployedMunTotalData\")){\n",
    "        unemployedMunTotalData <- munTotalDF\n",
    "    } else {\n",
    "        unemployedMunTotalData <- rbind(unemployedMunTotalData, munTotalDF)\n",
    "    }\n",
    "   \n",
    "}\n",
    "\n",
    "unemployed_perc <- merge(unemployedMunTotalData, unemployed, by = 'Geographical.code')\n",
    "unemployed_perc$unemployed_perc <- round((unemployed_perc$unemployed_count/unemployed_perc$total)*100,2)\n",
    "\n",
    "unemployed_perc <- unemployed_perc %>% select(c('Geographical.code','unemployed_perc'))\n",
    "names(unemployed_perc) <-  c(' Geographical level', 'unemployed_pct')"
   ]
  },
  {
   "cell_type": "code",
   "execution_count": 12,
   "metadata": {
    "scrolled": true
   },
   "outputs": [],
   "source": [
    "#employment area\n",
    "#A. AGRICULTURE, FORESTRY AND FISHERIES\n",
    "#F. CONSTRUCTIONS\n",
    "\n",
    "employmentAreaData <- read.csv(paste0(censusPath, \"A1602_SAM04_TB_DC_00_2011_B04_F_GR_Population Census 2011_Employed by sector of economic activity (single digit).csv\"), check.names = FALSE)\n",
    "\n",
    "#select the relevant rows\n",
    "employmentArea <- employmentAreaData[, c(1:2,5,6), drop = FALSE]\n",
    "\n",
    "# rename columns\n",
    "employmentArea <- employmentArea %>%\n",
    "  rename(agriculture_count =  'A. AGRICULTURE, FORESTRY AND FISHERIES',\n",
    "         construction_count =  ' F. CONSTRUCTIONS')\n",
    "\n",
    "# CALC PERC\n",
    "#select the relevant rows\n",
    "employmentAreaPerc <- employmentAreaData[, c(1:2,4,5,6), drop = FALSE]\n",
    "\n",
    "# rename columns\n",
    "employmentArea_perc <- employmentAreaPerc %>%\n",
    "  rename(agriculture_count =  'A. AGRICULTURE, FORESTRY AND FISHERIES',\n",
    "         construction_count =  ' F. CONSTRUCTIONS')\n",
    "\n",
    "employmentArea_perc$agriculture_perc <- round((employmentArea_perc$agriculture_count/employmentArea_perc$` Total`)*100,2)\n",
    "employmentArea_perc$construction_perc <- round((employmentArea_perc$construction_count/employmentArea_perc$` Total`)*100,2)\n",
    "\n",
    "\n",
    "employmentArea_perc <- employmentArea_perc %>% select(c(' Geographical code','agriculture_perc', 'construction_perc'))\n",
    "names(employmentArea_perc) <- c(' Geographical level', 'agriculture_pct', 'construction_pct')"
   ]
  },
  {
   "cell_type": "code",
   "execution_count": 13,
   "metadata": {},
   "outputs": [],
   "source": [
    "# profession\n",
    "# ' 6. Specialized farmers, stockbreeders, foresters and fishermen'\n",
    "#' 9. Unskilled workers, manual workers and small professionals'\n",
    "professionData <- read.csv(paste0(censusPath, \"A1602_SAM04_TB_DC_00_2011_B07_F_GR_Population Census 2011_Employed by profession (single digit).csv\"), check.names = FALSE)\n",
    "\n",
    "#select the relevant rows\n",
    "profession <- professionData[, c(1:2,10,13), drop = FALSE]\n",
    "\n",
    "# rename columns\n",
    "profession <- profession %>%\n",
    "  rename(agr_for_fish_count =  ' 6. Specialized farmers, stockbreeders, foresters and fishermen',\n",
    "         unskilled_count =  ' 9. Unskilled workers, manual workers and small professionals')\n",
    "\n",
    "# CALC PERC\n",
    "#select the relevant rows\n",
    "profession_perc <- professionData[, c(1:2,4,10,13), drop = FALSE]\n",
    "\n",
    "# rename columns\n",
    "profession_perc <- profession_perc %>%\n",
    "  rename(agr_for_fish_count =  ' 6. Specialized farmers, stockbreeders, foresters and fishermen',\n",
    "         unskilled_count =  ' 9. Unskilled workers, manual workers and small professionals')\n",
    "\n",
    "profession_perc$agr_for_fish_pct<- round((profession_perc$agr_for_fish_count/profession_perc$` Total`)*100,2)\n",
    "profession_perc$unskilled_pct <- round((profession_perc$unskilled_count/profession_perc$` Total`)*100,2)\n",
    "\n",
    "profession_perc <- profession_perc %>% select(c(' Geographical code','agr_for_fish_pct', 'unskilled_pct'))\n",
    "names(profession_perc) <- c(' Geographical level', 'agr_for_fish_pct', 'unskilled_pct')\n",
    "\n",
    "# profession_perc"
   ]
  },
  {
   "cell_type": "code",
   "execution_count": 14,
   "metadata": {},
   "outputs": [],
   "source": [
    "# new to area\n",
    "newToAreaData <- read.csv(paste0(censusPath, \"A1602_SAM07_TB_DC_00_2011_B06_F_GR_Population Census 2011_Permanent population aged one year and over, by place of residence one year before the census.csv\"), check.names = FALSE)\n",
    "\n",
    "newToArea <- newToAreaData[, c(1:2, 6), drop = FALSE]\n",
    "\n",
    "# # rename columns\n",
    "newToArea <- newToArea %>%\n",
    "  rename(new_to_area_count = 'In a municipality other than permanent residence or in a foreign country')\n",
    "\n",
    "# CALC PERC\n",
    "newToArea_perc <- newToAreaData[, c(1:2, 4,6), drop = FALSE]\n",
    "\n",
    "newToArea_perc <- newToArea_perc %>%\n",
    "  rename(new_to_area_count = 'In a municipality other than permanent residence or in a foreign country')\n",
    "\n",
    "newToArea_perc$new_to_area_pct <- round((newToArea_perc$new_to_area_count/newToArea_perc$` Total`)*100,2)\n",
    "\n",
    "newToArea_perc <- newToArea_perc %>% select(c(' Geographic Code','new_to_area_pct'))\n",
    "names(newToArea_perc) <- c(' Geographical level', 'new_to_area_pct')"
   ]
  },
  {
   "cell_type": "code",
   "execution_count": 15,
   "metadata": {
    "scrolled": true
   },
   "outputs": [
    {
     "name": "stderr",
     "output_type": "stream",
     "text": [
      "Warning message in merge.data.frame(personsAll, profession, by.x = \" Geographic Code\", :\n",
      "“column names ‘ Geographical level.x’, ‘ Geographical level.y’ are duplicated in the result”\n",
      "Warning message in merge.data.frame(personsAll, newToArea, by.x = \" Geographic Code\", :\n",
      "“column names ‘ Geographical level.x’, ‘ Geographical level.y’ are duplicated in the result”\n"
     ]
    }
   ],
   "source": [
    "# COMBINE ALL PERSONS DATA\n",
    "# education\n",
    "# citizenship\n",
    "# unemployed\n",
    "# employmentArea\n",
    "# profession\n",
    "# newToArea\n",
    "\n",
    "personsAll <- merge(totalPop, education, by = ' Geographic Code')\n",
    "personsAll <- merge(personsAll, citizenship, by.x = ' Geographic Code', by.y = ' Geographical code')\n",
    "personsAll <- merge(personsAll, unemployed, by.x = ' Geographic Code', by.y = 'Geographical.code')\n",
    "personsAll <- merge(personsAll, employmentArea, by.x = ' Geographic Code', by.y = ' Geographical code')\n",
    "personsAll <- merge(personsAll, profession, by.x = ' Geographic Code', by.y = ' Geographical code')\n",
    "personsAll <- merge(personsAll, newToArea, by.x = ' Geographic Code', by.y = ' Geographic Code')\n",
    "\n",
    "#trim the columns \n",
    "personsAll <- subset(personsAll, select=c(' Geographic Code','total_pop_count','total_female_count','low_edu_attainment_count','foreign_count','unemployed_count','agriculture_count','construction_count','agr_for_fish_count','unskilled_count','new_to_area_count'))\n"
   ]
  },
  {
   "cell_type": "code",
   "execution_count": 16,
   "metadata": {},
   "outputs": [],
   "source": [
    "# calculate the calculate the percentages\n",
    "\n",
    "personsAllPct <- personsAll\n",
    "\n",
    "for(col in names(personsAllPct)[3:ncol(personsAllPct)]) {\n",
    "  personsAllPct[paste0(col, \"_pct\")] = round((personsAllPct[col] / personsAllPct$total_pop_count)*100,2)\n",
    "}\n",
    "\n",
    "personsAllPct <- subset(personsAllPct, select=c(' Geographic Code','total_female_count_pct','low_edu_attainment_count_pct','foreign_count_pct'))\n",
    "\n",
    "personsAllPct <- merge(personsAllPct, unemployed_perc, by.x = ' Geographic Code', by.y = ' Geographical level')\n",
    "personsAllPct <- merge(personsAllPct, employmentArea_perc, by.x = ' Geographic Code', by.y = ' Geographical level')\n",
    "personsAllPct <- merge(personsAllPct, profession_perc, by.x = ' Geographic Code', by.y = ' Geographical level')\n",
    "personsAllPct <- merge(personsAllPct, newToArea_perc, by.x = ' Geographic Code', by.y = ' Geographical level')"
   ]
  },
  {
   "cell_type": "markdown",
   "metadata": {},
   "source": [
    "## Households\n"
   ]
  },
  {
   "cell_type": "code",
   "execution_count": 17,
   "metadata": {},
   "outputs": [],
   "source": [
    "# HOUSEHOLD SIZE\n",
    "# 44m or less per inhabitant\n",
    "if(exists(\"allData\")){\n",
    "    remove(\"allData\")\n",
    "}\n",
    "\n",
    "sizeData <- read.csv(paste0(censusPath, \"A1602_SAM05_TB_DC_00_2011_B02_F_GR_Population-Housing Census 2011_Normal dwellings by density and type of ownership.csv\"))\n",
    "\n",
    "# filter out\n",
    "sizeData <- sizeData %>% filter(X.Geographical.level == 5)\n",
    "\n",
    "# get the ids of the municipalities\n",
    "ids <- unique(sizeData$X.Geographical.code)\n",
    "\n",
    "for(i in ids){\n",
    "    \n",
    "    #get the municpality data\n",
    "    munData <- sizeData %>% filter(X.Geographical.code == i)\n",
    "    \n",
    "    #get the sum of households less than 44\n",
    "    munSum <- sum(munData[2:4,]$X.Total)\n",
    "    \n",
    "    # create a df\n",
    "    munSumDF <-  data.frame(Geographical.code = i, households_44m = munSum)\n",
    "    \n",
    "    if(!exists(\"allData\")){\n",
    "        allData <- munSumDF\n",
    "    } else {\n",
    "        allData <- rbind(allData, munSumDF)\n",
    "    }\n",
    "   \n",
    "}\n",
    "\n",
    "names(allData) <- c(' Geographical level', 'households_44m_count')\n",
    "householdSize <- allData\n",
    "\n",
    "if(exists(\"allTotalData\")){\n",
    "    remove(\"allTotalData\")\n",
    "}\n",
    "#CALC PERC\n",
    "for(i in ids){\n",
    "    \n",
    "    #get the municpality data\n",
    "    munData <- sizeData %>% filter(X.Geographical.code == i)\n",
    "    \n",
    "    #get the total\n",
    "    munTotal <- munData[1:1,]$X.Total\n",
    "    \n",
    "    # create a df\n",
    "    munTotalDF <-  data.frame(Geographical.code = i, total = munTotal)\n",
    "    \n",
    "    if(!exists(\"allTotalData\")){\n",
    "        allTotalData <- munTotalDF\n",
    "    } else {\n",
    "        allTotalData <- rbind(allTotalData, munTotalDF)\n",
    "    }\n",
    "   \n",
    "}\n",
    "\n",
    "householdSizePerc <- merge(allTotalData,allData, by.x = 'Geographical.code' , by.y = ' Geographical level')\n",
    "householdSizePerc$households_44m_pct <- round((householdSizePerc$households_44m_count/householdSizePerc$total)*100,2)\n",
    "\n",
    "householdSizePerc <- householdSizePerc %>% select(c('Geographical.code','households_44m_pct'))\n",
    "names(householdSizePerc) <-  c(' Geographical level', 'households_44m_pct')"
   ]
  },
  {
   "cell_type": "code",
   "execution_count": 18,
   "metadata": {},
   "outputs": [],
   "source": [
    "# no bathroom\n",
    "bathroomData <- read.csv(paste0(censusPath, \"A1602_SAM05_TB_DC_00_2011_B06_F_GR_Population-Housing Census 2011_Normal houses by bathroom availability.csv\"), check.names = FALSE)\n",
    "\n",
    "bathroom <- bathroomData[, c(1:2,6), drop = FALSE]\n",
    "\n",
    "# rename columns\n",
    "bathroom <- bathroom %>%\n",
    "  rename(no_bathroom_count =  'There is a bathroom outside the house / There is no bath or shower')\n",
    "\n",
    "bathroom <- bathroom %>% select(-c(' Geographical level'))\n",
    "\n",
    "#CALC PERC\n",
    "bathroomTotal <- bathroomData[, c(2,4), drop = FALSE]\n",
    "\n",
    "bathroomPerc <- merge(bathroomTotal,bathroom)\n",
    "names(bathroomPerc) <- c(' Geographical code', 'total', 'no_bathroom_count')\n",
    "bathroomPerc$no_bathroom_pct <- round((bathroomPerc$no_bathroom_count/bathroomPerc$total)*100,2)\n",
    "\n",
    "bathroomPerc <- bathroomPerc %>% select(c(' Geographical code','no_bathroom_pct'))"
   ]
  },
  {
   "cell_type": "code",
   "execution_count": 19,
   "metadata": {},
   "outputs": [],
   "source": [
    "# no toilets/wc\n",
    "\n",
    "toiletData <- read.csv(paste0(censusPath, \"A1602_SAM05_TB_DC_00_2011_B08_F_GR_Population-Housing Census 2011_Normal dwellings with toilet or WC availability.csv\"), check.names = FALSE)\n",
    "\n",
    "toilet <- toiletData[, c(1:2, 7), drop = FALSE]\n",
    "\n",
    "# rename columns\n",
    "toilet <- toilet %>%\n",
    "  rename(no_wc_count =  ' Has a toilet or WC (with or without plumbing) outside the house / No toilet or WC')\n",
    "\n",
    "toilet <- toilet %>% select(-c(' Geographical level'))\n",
    "#CALC PERC\n",
    "\n",
    "toiletTotal <- toiletData[, c(2,4), drop = FALSE]\n",
    "\n",
    "toiletPerc <- merge(toiletTotal,toilet)\n",
    "names(toiletPerc) <- c(' Geographical code', 'total', 'no_toilet_count')\n",
    "\n",
    "toiletPerc$no_toilet_pct <- round((toiletPerc$no_toilet_count/toiletPerc$total)*100,2)\n",
    "\n",
    "toiletPerc <- toiletPerc %>% select(c(' Geographical code','no_toilet_pct'))"
   ]
  },
  {
   "cell_type": "code",
   "execution_count": 20,
   "metadata": {},
   "outputs": [],
   "source": [
    "# house type\n",
    "# Apartment building\n",
    "\n",
    "houseTypeData <- read.csv(paste0(censusPath, \"A1602_SAM05_TB_DC_00_2011_B14_F_GR_Population-Housing Census 2011_Normal houses by building type.csv\"), check.names = FALSE)\n",
    "\n",
    "houseType <- houseTypeData[, c(1:2, 5), drop = FALSE]\n",
    "\n",
    "# rename columns\n",
    "houseType <- houseType %>%\n",
    "  rename(detached_count = 'Detached house')\n",
    "\n",
    "houseType <- houseType %>% select(-c(' Geographical level'))\n",
    "\n",
    "# #CALC PERC\n",
    "\n",
    "houseTypeTotal <- houseTypeData[, c(2,4), drop = FALSE]\n",
    "\n",
    "houseTypePerc <- merge(houseTypeTotal,houseType)\n",
    "names(houseTypePerc) <- c(' Geographical code', 'total', 'detached_count')\n",
    "\n",
    "houseTypePerc$detached_pct <- round((houseTypePerc$detached_count/houseTypePerc$total)*100,2)\n",
    "\n",
    "houseTypePerc <- houseTypePerc %>% select(c(' Geographical code','detached_pct'))"
   ]
  },
  {
   "cell_type": "code",
   "execution_count": 21,
   "metadata": {},
   "outputs": [],
   "source": [
    "# Building age\n",
    "#  Before 1945\t 1946 - 1960\t 1961 - 1970\t 1971 - 1980\t 1981 - 1990\t 1991 - 2000\t 2001 - 2005\t 2006 onwards\n",
    "\n",
    "buildAgeData <- read.csv(paste0(censusPath, \"A1602_SAM05_TB_DC_00_2011_B15_F_GR_Population-Housing Census 2011_Normal houses by construction period.csv\"), check.names = FALSE)\n",
    "\n",
    "buildAge <- buildAgeData[, c(1:2, 5), drop = FALSE]\n",
    "\n",
    "# rename columns\n",
    "buildAge <- buildAge %>%\n",
    "  rename(pre_1945_count = ' Before 1945')\n",
    "\n",
    "buildAge <- buildAge %>% select(-c(' Geographical level'))\n",
    "\n",
    "#CALC PERC\n",
    "buildAgeTotal <- buildAgeData[, c(2,4), drop = FALSE]\n",
    "\n",
    "buildAgePerc <- merge(buildAgeTotal,buildAge)\n",
    "names(buildAgePerc) <- c(' Geographical code', 'total', 'pre_1945_count')\n",
    "\n",
    "buildAgePerc$pre_1945_pct <- round((buildAgePerc$pre_1945_count/buildAgePerc$total)*100,2)\n",
    "\n",
    "buildAgePerc <- buildAgePerc %>% select(c(' Geographical code','pre_1945_pct'))"
   ]
  },
  {
   "cell_type": "code",
   "execution_count": 22,
   "metadata": {},
   "outputs": [],
   "source": [
    "# number of rooms\n",
    "#one room\n",
    "\n",
    "roomsData <- read.csv(paste0(censusPath, \"A1602_SAM05_TB_DC_00_2011_B16_F_GR_Population-Residents Census 2011_Normal houses by number of rooms.csv\"), check.names = FALSE)\n",
    "\n",
    "rooms <- roomsData[, c(1:2, 5), drop = FALSE]\n",
    "\n",
    "# rename columns\n",
    "rooms <- rooms %>%\n",
    "  rename(one_room_count = '1')\n",
    "\n",
    "rooms <- rooms %>% select(-c(' Geographical level'))\n",
    "\n",
    "#CALC PERC\n",
    "roomsTotal <- roomsData[, c(2,4), drop = FALSE]\n",
    "\n",
    "roomsPerc <- merge(roomsTotal,rooms)\n",
    "names(roomsPerc) <- c(' Geographical code', 'total', 'one_room_count')\n",
    "\n",
    "roomsPerc$one_room_pct <- round((roomsPerc$one_room_count/roomsPerc$total)*100,2)\n",
    "\n",
    "roomsPerc <- roomsPerc %>% select(c(' Geographical code','one_room_pct'))"
   ]
  },
  {
   "cell_type": "code",
   "execution_count": 23,
   "metadata": {},
   "outputs": [],
   "source": [
    "# small area households\n",
    "# <40 m2\n",
    "\n",
    "smallHouseholdsData <- read.csv(paste0(censusPath, \"A1602_SAM05_TB_DC_00_2011_B17_F_GR_Population-Residents Census 2011_Normal dwellings by area (m 2 ).csv\"), check.names = FALSE)\n",
    "\n",
    "smallHouseholds <- smallHouseholdsData[, c(1:2, 5), drop = FALSE]\n",
    "\n",
    "# rename columns\n",
    "smallHouseholds <- smallHouseholds %>%\n",
    "  rename(less_40m2_count = ' Under 40')\n",
    "\n",
    "\n",
    "smallHouseholds <- smallHouseholds %>% select(-c(' Geographical level'))\n",
    "\n",
    "#CALC PERC\n",
    "smallHouseholdsTotal <- smallHouseholdsData[, c(2,4), drop = FALSE]\n",
    "\n",
    "smallHouseholdsPerc <- merge(smallHouseholdsTotal,smallHouseholds)\n",
    "names(smallHouseholdsPerc) <- c(' Geographical code', 'total', 'less_40m2_count')\n",
    "\n",
    "smallHouseholdsPerc$less_40m2_pct <- round((smallHouseholdsPerc$less_40m2_count/smallHouseholdsPerc$total)*100,2)\n",
    "\n",
    "smallHouseholdsPerc <- smallHouseholdsPerc %>% select(c(' Geographical code','less_40m2_pct'))"
   ]
  },
  {
   "cell_type": "code",
   "execution_count": 24,
   "metadata": {},
   "outputs": [],
   "source": [
    "# insulation\n",
    "# No insulation at all\n",
    "insulationData <- read.csv(paste0(censusPath, \"A1602_SAM05_TB_DC_00_2011_B29_F_GR_Population Census 2011_Normal houses by type of insulation.csv\"), check.names = FALSE)\n",
    "\n",
    "insulation <- insulationData[, c(1:2, 8), drop = FALSE]\n",
    "\n",
    "# rename columns\n",
    "insulation <- insulation %>%\n",
    "  rename(no_insulation_count = ' No insulation at all')\n",
    "insulation <- insulation %>% select(-c(' Geographical level'))\n",
    "\n",
    "#CALC PERC\n",
    "insulationTotal <- insulationData[, c(2,4), drop = FALSE]\n",
    "\n",
    "insulationPerc <- merge(insulationTotal,insulation)\n",
    "names(insulationPerc) <- c(' Geographical code', 'total', 'no_insulation_count')\n",
    "\n",
    "insulationPerc$no_insulation_pct <- round((insulationPerc$no_insulation_count/insulationPerc$total)*100,2)\n",
    "\n",
    "insulationPerc <- insulationPerc %>% select(c(' Geographical code','no_insulation_pct'))"
   ]
  },
  {
   "cell_type": "code",
   "execution_count": 25,
   "metadata": {},
   "outputs": [],
   "source": [
    "# no car\n",
    "carData <- read.csv(paste0(censusPath, \"A1602_SAM05_TB_DC_00_2011_B36_F_GR_Population Census 2011_Households by number of cars at their disposal.csv\"), check.names = FALSE)\n",
    "\n",
    "car <- carData[, c(1:2, 5), drop = FALSE]\n",
    "\n",
    "# # rename columns\n",
    "car <- car %>%\n",
    "  rename(no_car_count = ' 0 cars')\n",
    "\n",
    "car <- car %>% select(-c(' Geographical level'))\n",
    "\n",
    "#CALC PERC\n",
    "carTotal <- carData[, c(2,4), drop = FALSE]\n",
    "\n",
    "carPerc <- merge(carTotal,car)\n",
    "names(carPerc) <- c(' Geographical code', 'total', 'no_car_count')\n",
    "\n",
    "carPerc$no_car_pct <- round((carPerc$no_car_count/carPerc$total)*100,2)\n",
    "\n",
    "carPerc <- carPerc %>% select(c(' Geographical code','no_car_pct'))"
   ]
  },
  {
   "cell_type": "code",
   "execution_count": 26,
   "metadata": {},
   "outputs": [],
   "source": [
    "# no internet access\n",
    "\n",
    "internetAccessData <- read.csv(paste0(censusPath, \"A1602_SAM05_TB_DC_00_2011_B44_F_GR_Population Census 2011_Percentage distribution of households according to internet access.csv\"), check.names = FALSE)\n",
    "\n",
    "internetAccess <- internetAccessData[, c(1:2, 6), drop = FALSE]\n",
    "\n",
    "# rename columns\n",
    "internetAccess <- internetAccess %>%\n",
    "  rename(no_internet_pct = ' do not have internet access')\n",
    "\n",
    "internetAccess <- internetAccess %>% select(-c('Geographical level'))"
   ]
  },
  {
   "cell_type": "code",
   "execution_count": 27,
   "metadata": {},
   "outputs": [],
   "source": [
    "#Merge all\n",
    "\n",
    "# counts\n",
    "householdsAll <- merge(householdSize, bathroom, by.x = ' Geographical level', by.y = ' Geographical code')\n",
    "householdsAll <- merge(householdsAll, toilet, by.x = ' Geographical level', by.y = ' Geographical code')\n",
    "householdsAll <- merge(householdsAll, houseType, by.x = ' Geographical level', by.y = ' Geographical code')\n",
    "householdsAll <- merge(householdsAll, buildAge, by.x = ' Geographical level', by.y = ' Geographical code')\n",
    "householdsAll <- merge(householdsAll, rooms, by.x = ' Geographical level', by.y = ' Geographical code')\n",
    "householdsAll <- merge(householdsAll, smallHouseholds, by.x = ' Geographical level', by.y = ' Geographical code')\n",
    "householdsAll <- merge(householdsAll, insulation, by.x = ' Geographical level', by.y = ' Geographical code')\n",
    "householdsAll <- merge(householdsAll, car, by.x = ' Geographical level', by.y = ' Geographical code')\n",
    "householdsAll <- merge(householdsAll, internetAccess, by.x = ' Geographical level', by.y = ' Geographical code')\n",
    "\n",
    "# Percentages\n",
    "householdsAllPerc <- merge(householdSizePerc, bathroomPerc, by.x = ' Geographical level', by.y = ' Geographical code')\n",
    "householdsAllPerc <- merge(householdsAllPerc, toiletPerc, by.x = ' Geographical level', by.y = ' Geographical code')\n",
    "householdsAllPerc <- merge(householdsAllPerc, houseTypePerc, by.x = ' Geographical level', by.y = ' Geographical code')\n",
    "householdsAllPerc <- merge(householdsAllPerc, buildAgePerc, by.x = ' Geographical level', by.y = ' Geographical code')\n",
    "householdsAllPerc <- merge(householdsAllPerc, roomsPerc, by.x = ' Geographical level', by.y = ' Geographical code')\n",
    "householdsAllPerc <- merge(householdsAllPerc, smallHouseholdsPerc, by.x = ' Geographical level', by.y = ' Geographical code')\n",
    "householdsAllPerc <- merge(householdsAllPerc, insulationPerc, by.x = ' Geographical level', by.y = ' Geographical code')\n",
    "householdsAllPerc <- merge(householdsAllPerc, carPerc, by.x = ' Geographical level', by.y = ' Geographical code')\n",
    "householdsAllPerc <- merge(householdsAllPerc, internetAccess, by.x = ' Geographical level', by.y = ' Geographical code')"
   ]
  },
  {
   "cell_type": "markdown",
   "metadata": {},
   "source": [
    "## Z-Scores\n",
    "\n",
    "The raw data is not suitable for use within the vulnerabiltiy assessment. It needs to be standardised. Therefore, the data is converted to z-scores. Z-scores are:\n",
    "\n",
    ">\"A statistical measurement of a score's relationship to the mean (average value) in a group of scores. A Z-score of 0 means the score is the same as the mean (average value). A Z-score can be positive or negative, indicating whether it is above or below the mean and by how many standard deviations. Z-score standardisation represents the deviation of a raw score from its mean in standard deviation units.\" (Kazmierczak et al., 2015)"
   ]
  },
  {
   "cell_type": "markdown",
   "metadata": {},
   "source": [
    "## Persons Z-scores"
   ]
  },
  {
   "cell_type": "code",
   "execution_count": 28,
   "metadata": {},
   "outputs": [
    {
     "data": {
      "text/html": [
       "<table class=\"dataframe\">\n",
       "<caption>A data.frame: 6 × 9</caption>\n",
       "<thead>\n",
       "\t<tr><th></th><th scope=col> Geographic Code</th><th scope=col>low_edu_attainment_count_pct_Z</th><th scope=col>foreign_count_pct_Z</th><th scope=col>unemployed_pct_Z</th><th scope=col>agriculture_pct_Z</th><th scope=col>construction_pct_Z</th><th scope=col>agr_for_fish_pct_Z</th><th scope=col>unskilled_pct_Z</th><th scope=col>new_to_area_pct_Z</th></tr>\n",
       "\t<tr><th></th><th scope=col>&lt;int&gt;</th><th scope=col>&lt;dbl[,1]&gt;</th><th scope=col>&lt;dbl[,1]&gt;</th><th scope=col>&lt;dbl[,1]&gt;</th><th scope=col>&lt;dbl[,1]&gt;</th><th scope=col>&lt;dbl[,1]&gt;</th><th scope=col>&lt;dbl[,1]&gt;</th><th scope=col>&lt;dbl[,1]&gt;</th><th scope=col>&lt;dbl[,1]&gt;</th></tr>\n",
       "</thead>\n",
       "<tbody>\n",
       "\t<tr><th scope=row>1</th><td> 1</td><td>-0.10948913</td><td>-0.50473849</td><td> 0.8589236</td><td>-0.30400733</td><td>-0.57788016</td><td>-0.27599891</td><td>-0.45745002</td><td>-0.015348417</td></tr>\n",
       "\t<tr><th scope=row>2</th><td> 2</td><td> 0.09468197</td><td>-0.05414168</td><td> 0.1827130</td><td> 0.04616694</td><td>-0.08587229</td><td>-0.04102041</td><td> 0.21414254</td><td>-0.503434659</td></tr>\n",
       "\t<tr><th scope=row>3</th><td> 3</td><td>-1.22108732</td><td> 0.65432679</td><td> 0.7699485</td><td>-1.13086204</td><td>-0.57788016</td><td>-1.11788048</td><td>-0.39361043</td><td>-0.035406756</td></tr>\n",
       "\t<tr><th scope=row>4</th><td> 4</td><td>-0.50421991</td><td> 0.06529361</td><td>-0.2977524</td><td>-0.44290327</td><td> 0.07725331</td><td>-0.41369332</td><td> 0.01240941</td><td> 0.171862745</td></tr>\n",
       "\t<tr><th scope=row>5</th><td>11</td><td>-0.17527759</td><td>-0.50202405</td><td> 0.9597620</td><td>-0.31574502</td><td>-0.71469518</td><td>-0.28872068</td><td>-0.42680702</td><td>-0.001976191</td></tr>\n",
       "\t<tr><th scope=row>6</th><td>12</td><td> 0.14459046</td><td>-0.51559625</td><td> 0.4318432</td><td>-0.25379612</td><td>-0.01220267</td><td>-0.22137015</td><td>-0.58768280</td><td>-0.075523433</td></tr>\n",
       "</tbody>\n",
       "</table>\n"
      ],
      "text/latex": [
       "A data.frame: 6 × 9\n",
       "\\begin{tabular}{r|lllllllll}\n",
       "  &  Geographic Code & low\\_edu\\_attainment\\_count\\_pct\\_Z & foreign\\_count\\_pct\\_Z & unemployed\\_pct\\_Z & agriculture\\_pct\\_Z & construction\\_pct\\_Z & agr\\_for\\_fish\\_pct\\_Z & unskilled\\_pct\\_Z & new\\_to\\_area\\_pct\\_Z\\\\\n",
       "  & <int> & <dbl{[},1{]}> & <dbl{[},1{]}> & <dbl{[},1{]}> & <dbl{[},1{]}> & <dbl{[},1{]}> & <dbl{[},1{]}> & <dbl{[},1{]}> & <dbl{[},1{]}>\\\\\n",
       "\\hline\n",
       "\t1 &  1 & -0.10948913 & -0.50473849 &  0.8589236 & -0.30400733 & -0.57788016 & -0.27599891 & -0.45745002 & -0.015348417\\\\\n",
       "\t2 &  2 &  0.09468197 & -0.05414168 &  0.1827130 &  0.04616694 & -0.08587229 & -0.04102041 &  0.21414254 & -0.503434659\\\\\n",
       "\t3 &  3 & -1.22108732 &  0.65432679 &  0.7699485 & -1.13086204 & -0.57788016 & -1.11788048 & -0.39361043 & -0.035406756\\\\\n",
       "\t4 &  4 & -0.50421991 &  0.06529361 & -0.2977524 & -0.44290327 &  0.07725331 & -0.41369332 &  0.01240941 &  0.171862745\\\\\n",
       "\t5 & 11 & -0.17527759 & -0.50202405 &  0.9597620 & -0.31574502 & -0.71469518 & -0.28872068 & -0.42680702 & -0.001976191\\\\\n",
       "\t6 & 12 &  0.14459046 & -0.51559625 &  0.4318432 & -0.25379612 & -0.01220267 & -0.22137015 & -0.58768280 & -0.075523433\\\\\n",
       "\\end{tabular}\n"
      ],
      "text/markdown": [
       "\n",
       "A data.frame: 6 × 9\n",
       "\n",
       "| <!--/--> |  Geographic Code &lt;int&gt; | low_edu_attainment_count_pct_Z &lt;dbl[,1]&gt; | foreign_count_pct_Z &lt;dbl[,1]&gt; | unemployed_pct_Z &lt;dbl[,1]&gt; | agriculture_pct_Z &lt;dbl[,1]&gt; | construction_pct_Z &lt;dbl[,1]&gt; | agr_for_fish_pct_Z &lt;dbl[,1]&gt; | unskilled_pct_Z &lt;dbl[,1]&gt; | new_to_area_pct_Z &lt;dbl[,1]&gt; |\n",
       "|---|---|---|---|---|---|---|---|---|---|\n",
       "| 1 |  1 | -0.10948913 | -0.50473849 |  0.8589236 | -0.30400733 | -0.57788016 | -0.27599891 | -0.45745002 | -0.015348417 |\n",
       "| 2 |  2 |  0.09468197 | -0.05414168 |  0.1827130 |  0.04616694 | -0.08587229 | -0.04102041 |  0.21414254 | -0.503434659 |\n",
       "| 3 |  3 | -1.22108732 |  0.65432679 |  0.7699485 | -1.13086204 | -0.57788016 | -1.11788048 | -0.39361043 | -0.035406756 |\n",
       "| 4 |  4 | -0.50421991 |  0.06529361 | -0.2977524 | -0.44290327 |  0.07725331 | -0.41369332 |  0.01240941 |  0.171862745 |\n",
       "| 5 | 11 | -0.17527759 | -0.50202405 |  0.9597620 | -0.31574502 | -0.71469518 | -0.28872068 | -0.42680702 | -0.001976191 |\n",
       "| 6 | 12 |  0.14459046 | -0.51559625 |  0.4318432 | -0.25379612 | -0.01220267 | -0.22137015 | -0.58768280 | -0.075523433 |\n",
       "\n"
      ],
      "text/plain": [
       "   Geographic Code low_edu_attainment_count_pct_Z foreign_count_pct_Z\n",
       "1  1               -0.10948913                    -0.50473849        \n",
       "2  2                0.09468197                    -0.05414168        \n",
       "3  3               -1.22108732                     0.65432679        \n",
       "4  4               -0.50421991                     0.06529361        \n",
       "5 11               -0.17527759                    -0.50202405        \n",
       "6 12                0.14459046                    -0.51559625        \n",
       "  unemployed_pct_Z agriculture_pct_Z construction_pct_Z agr_for_fish_pct_Z\n",
       "1  0.8589236       -0.30400733       -0.57788016        -0.27599891       \n",
       "2  0.1827130        0.04616694       -0.08587229        -0.04102041       \n",
       "3  0.7699485       -1.13086204       -0.57788016        -1.11788048       \n",
       "4 -0.2977524       -0.44290327        0.07725331        -0.41369332       \n",
       "5  0.9597620       -0.31574502       -0.71469518        -0.28872068       \n",
       "6  0.4318432       -0.25379612       -0.01220267        -0.22137015       \n",
       "  unskilled_pct_Z new_to_area_pct_Z\n",
       "1 -0.45745002     -0.015348417     \n",
       "2  0.21414254     -0.503434659     \n",
       "3 -0.39361043     -0.035406756     \n",
       "4  0.01240941      0.171862745     \n",
       "5 -0.42680702     -0.001976191     \n",
       "6 -0.58768280     -0.075523433     "
      ]
     },
     "metadata": {},
     "output_type": "display_data"
    }
   ],
   "source": [
    "#Z scores\n",
    "\n",
    "#Copy the data\n",
    "allPersonsDataZ <- personsAllPct\n",
    "\n",
    "#not using female data for now\n",
    "allPersonsDataZ <- allPersonsDataZ[, c(1, 3:10), drop = FALSE]\n",
    "\n",
    "# Calculate the z scores for each of the relevant columns - starting at the 2nd column\n",
    "for(col in names(allPersonsDataZ)[2:ncol(allPersonsDataZ)]) {\n",
    "#     print(col)\n",
    "  allPersonsDataZ[paste0(col, \"_Z\")] = scale(allPersonsDataZ[col], )\n",
    "}\n",
    "\n",
    "# remove the original data to leave only the z scores\n",
    "allPersonsDataZ <- allPersonsDataZ[-c(2:9)]\n",
    "# # summary(personsDataZ)\n",
    "head(allPersonsDataZ)\n",
    "\n",
    "#output the data as a csv\n",
    "write.csv(allPersonsDataZ, file.path(pipelineDir, \"persons_oa_z_data.csv\"), row.names = FALSE)"
   ]
  },
  {
   "cell_type": "markdown",
   "metadata": {},
   "source": [
    "## Households Z-scores"
   ]
  },
  {
   "cell_type": "code",
   "execution_count": 29,
   "metadata": {},
   "outputs": [],
   "source": [
    "#Z scores\n",
    "\n",
    "#Copy the data\n",
    "allHouseholdsDataZ <- householdsAllPerc\n",
    "\n",
    "# Calculate the z scores for each of the relevant columns - starting at the 2nd column\n",
    "for(col in names(allHouseholdsDataZ)[2:ncol(allHouseholdsDataZ)]) {\n",
    "#     print(col)\n",
    "  allHouseholdsDataZ[paste0(col, \"_Z\")] = scale(allHouseholdsDataZ[col], )\n",
    "}\n",
    "\n",
    "#remove the original data to leave only the z scores\n",
    "allHouseholdsDataZ <- allHouseholdsDataZ[-c(2:ncol(householdsAllPerc))]\n",
    "\n",
    "# invesrse the detached data\n",
    "allHouseholdsDataZ$detached_pct_Z = allHouseholdsDataZ$detached_pct_Z*-1\n",
    "\n",
    "# head(allHouseholdsDataZ)\n",
    "\n",
    "#output the data as a csv\n",
    "write.csv(allHouseholdsDataZ, file.path(pipelineDir, \"households_oa_z_data.csv\"), row.names = FALSE)"
   ]
  },
  {
   "cell_type": "markdown",
   "metadata": {},
   "source": [
    "## Combine Data\n",
    "\n",
    "The persons level and household level data are then combined into a single CSV:"
   ]
  },
  {
   "cell_type": "code",
   "execution_count": 30,
   "metadata": {},
   "outputs": [],
   "source": [
    "#Combine the RAW persons and household data\n",
    "personsHouseholdDataCombined <- merge(personsAll, householdsAll, by.x = ' Geographic Code', by.y = ' Geographical level')\n",
    "\n",
    "#output the data as a csv\n",
    "write.csv(personsHouseholdDataCombined, file.path(pipelineDir, \"census_oa_raw_data.csv\"), row.names = FALSE)\n",
    "\n",
    "# # #Combine the % persons and household data\n",
    "personsHouseholdPctDataCombined <-  merge(personsAllPct, householdsAllPerc, by.x = ' Geographic Code', by.y = ' Geographical level')\n",
    "\n",
    "#output the data as a csv\n",
    "write.csv(personsHouseholdPctDataCombined, file.path(pipelineDir, \"census_oa_pct_data.csv\"), row.names = FALSE)\n",
    "\n",
    "# #Combine the Z-score persons and household data\n",
    "personsHouseholdZDataCombined <- merge(allPersonsDataZ, allHouseholdsDataZ, by.x = ' Geographic Code', by.y = ' Geographical level')\n",
    "\n",
    "# # names(personsHouseholdZDataCombined) <- gsub(\"_pct_Z\",\"\",names(personsHouseholdZDataCombined))\n",
    "\n",
    "#output the data as a csv\n",
    "write.csv(personsHouseholdZDataCombined, file.path(pipelineDir, \"census_persons_oa_z_data.csv\"), row.names = FALSE)"
   ]
  },
  {
   "cell_type": "code",
   "execution_count": 31,
   "metadata": {},
   "outputs": [
    {
     "name": "stdout",
     "output_type": "stream",
     "text": [
      "Deleting source `../../2_pipeline/Athens/1a_CensusData/2011/census_all_oa_raw_data.geojson' using driver `GeoJSON'\n",
      "Writing layer `census_all_oa_raw_data' to data source \n",
      "  `../../2_pipeline/Athens/1a_CensusData/2011/census_all_oa_raw_data.geojson' using driver `GeoJSON'\n",
      "Writing 308 features with 23 fields and geometry type Multi Polygon.\n",
      "Deleting source `../../2_pipeline/Athens/1a_CensusData/2011/census_all_oa_pct_data.geojson' using driver `GeoJSON'\n",
      "Writing layer `census_all_oa_pct_data' to data source \n",
      "  `../../2_pipeline/Athens/1a_CensusData/2011/census_all_oa_pct_data.geojson' using driver `GeoJSON'\n",
      "Writing 308 features with 22 fields and geometry type Multi Polygon.\n",
      "Deleting source `../../2_pipeline/Athens/1a_CensusData/2011/census_all_oa_z_data.geojson' using driver `GeoJSON'\n",
      "Writing layer `census_all_oa_z_data' to data source \n",
      "  `../../2_pipeline/Athens/1a_CensusData/2011/census_all_oa_z_data.geojson' using driver `GeoJSON'\n",
      "Writing 308 features with 21 fields and geometry type Multi Polygon.\n"
     ]
    }
   ],
   "source": [
    "# spatial data\n",
    "\n",
    "# create a new column of the last four digits of Geographic Code to allow merge with spatial data\n",
    "municipalityCodes <- totalPopData %>% select(c(' Geographical level',' Geographic Code'))\n",
    "names(municipalityCodes) <- c('Geographical_level',' Geographic Code')\n",
    "municipalityCodes <- municipalityCodes %>% filter(municipalityCodes$Geographical_level == 5)\n",
    "\n",
    "#short code\n",
    "municipalityCodes$short_code <- str_sub(municipalityCodes$` Geographic Code`,-4)\n",
    "\n",
    "# raw\n",
    "personsHouseholdDataCombinedShortCode <- merge(personsHouseholdDataCombined, municipalityCodes, by.x = ' Geographic Code', by.y = ' Geographic Code')\n",
    "\n",
    "# export the raw data\n",
    "oaDataRaw <- merge(censusOA[c(5)], personsHouseholdDataCombinedShortCode, by.x = 'CodeELSTAT', by.y = 'short_code')\n",
    "st_write(oaDataRaw, file.path(pipelineDir, \"census_all_oa_raw_data.geojson\"), delete_dsn = TRUE)\n",
    "\n",
    "#pct\n",
    "personsHouseholdPctDataCombinedShortCode <- merge(personsHouseholdPctDataCombined, municipalityCodes, by.x = ' Geographic Code', by.y = ' Geographic Code')\n",
    "\n",
    "# export the raw data\n",
    "oaDataPct <- merge(censusOA[c(5)], personsHouseholdPctDataCombinedShortCode, by.x = 'CodeELSTAT', by.y = 'short_code')\n",
    "st_write(oaDataPct, file.path(pipelineDir, \"census_all_oa_pct_data.geojson\"), delete_dsn = TRUE)\n",
    "\n",
    "#merge the z data\n",
    "personsHouseholdZDataCombinedShortCode <- merge(personsHouseholdZDataCombined, municipalityCodes, by.x = ' Geographic Code', by.y = ' Geographic Code')\n",
    "\n",
    "# export the z data\n",
    "oaDataZ <- merge(censusOA[c(5)], personsHouseholdZDataCombinedShortCode, by.x = 'CodeELSTAT', by.y = 'short_code')\n",
    "st_write(oaDataZ, file.path(pipelineDir, \"census_all_oa_z_data.geojson\"), delete_dsn = TRUE)"
   ]
  },
  {
   "cell_type": "markdown",
   "metadata": {},
   "source": [
    "## Athens"
   ]
  },
  {
   "cell_type": "code",
   "execution_count": 32,
   "metadata": {},
   "outputs": [],
   "source": [
    "# dervied from qgis - the codes of the area around athens \n",
    "athens <- c('4501','4502','4503','4504','4505','4506','4507','4508','4601','4602','4603','4604','4605','4606','4607','4608','4609','4610','4611','4612','4701','4702','4703','4704','4705','4706','4707','4801','4802','4803','4804','4805','4806','4807','4808','4901','4904','4908','4909','5002','5005','5101','5102','5103','5104','5105','5201')"
   ]
  },
  {
   "cell_type": "code",
   "execution_count": 33,
   "metadata": {},
   "outputs": [],
   "source": [
    "# get just the athens data\n",
    "oaDataPctAthens <- subset(oaDataPct, CodeELSTAT %in% athens)\n",
    "oaDataPctAthensZ <- st_drop_geometry(oaDataPctAthens)"
   ]
  },
  {
   "cell_type": "code",
   "execution_count": 34,
   "metadata": {},
   "outputs": [],
   "source": [
    "# Calculate the z scores for each of the relevant columns - starting at the 2nd column\n",
    "for(col in names(oaDataPctAthensZ)[3:21]) {\n",
    "#     print(col)\n",
    "  oaDataPctAthensZ[paste0(col, \"_Z\")] = scale(oaDataPctAthensZ[col], )\n",
    "}\n",
    "\n",
    "# # #remove the original data to leave only the z scores\n",
    "oaDataPctAthensZ <- oaDataPctAthensZ[-c(2:ncol(oaDataPctAthens))]"
   ]
  },
  {
   "cell_type": "code",
   "execution_count": 35,
   "metadata": {},
   "outputs": [],
   "source": [
    "# spatial\n",
    "oaDataPctAthensZ <- merge(censusOA[c(5)], oaDataPctAthensZ, by.x = 'CodeELSTAT', by.y = 'CodeELSTAT')"
   ]
  },
  {
   "cell_type": "code",
   "execution_count": 36,
   "metadata": {},
   "outputs": [
    {
     "name": "stdout",
     "output_type": "stream",
     "text": [
      "Deleting source `../../2_pipeline/Athens/1a_CensusData/2011/census_athens_oa_z_data.geojson' using driver `GeoJSON'\n",
      "Writing layer `census_athens_oa_z_data' to data source \n",
      "  `../../2_pipeline/Athens/1a_CensusData/2011/census_athens_oa_z_data.geojson' using driver `GeoJSON'\n",
      "Writing 47 features with 19 fields and geometry type Multi Polygon.\n"
     ]
    }
   ],
   "source": [
    "# export\n",
    "st_write(oaDataPctAthensZ, file.path(pipelineDir, \"census_athens_oa_z_data.geojson\"), delete_dsn = TRUE)"
   ]
  },
  {
   "cell_type": "markdown",
   "metadata": {},
   "source": [
    "**END**"
   ]
  }
 ],
 "metadata": {
  "kernelspec": {
   "display_name": "R",
   "language": "R",
   "name": "ir"
  },
  "language_info": {
   "codemirror_mode": "r",
   "file_extension": ".r",
   "mimetype": "text/x-r-source",
   "name": "R",
   "pygments_lexer": "r",
   "version": "4.1.3"
  },
  "toc": {
   "base_numbering": 1,
   "nav_menu": {},
   "number_sections": true,
   "sideBar": true,
   "skip_h1_title": false,
   "title_cell": "Table of Contents",
   "title_sidebar": "Contents",
   "toc_cell": false,
   "toc_position": {},
   "toc_section_display": true,
   "toc_window_display": false
  }
 },
 "nbformat": 4,
 "nbformat_minor": 4
}
