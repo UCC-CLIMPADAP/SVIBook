{
 "cells": [
  {
   "cell_type": "markdown",
   "id": "a0383e5a",
   "metadata": {},
   "source": [
    "# Copernicus Data to Indicators\n",
    "\n",
    "Processing of the Copernicus data into census output areas"
   ]
  },
  {
   "cell_type": "code",
   "execution_count": 1,
   "id": "abb8d50e",
   "metadata": {},
   "outputs": [
    {
     "name": "stderr",
     "output_type": "stream",
     "text": [
      "Loading required package: pacman\n",
      "\n"
     ]
    },
    {
     "name": "stdout",
     "output_type": "stream",
     "text": [
      "[1] \"Loaded Packages:\"\n"
     ]
    },
    {
     "data": {
      "text/html": [
       "<style>\n",
       ".list-inline {list-style: none; margin:0; padding: 0}\n",
       ".list-inline>li {display: inline-block}\n",
       ".list-inline>li:not(:last-child)::after {content: \"\\00b7\"; padding: 0 .5ex}\n",
       "</style>\n",
       "<ol class=list-inline><li>'exactextractr'</li><li>'raster'</li><li>'sp'</li><li>'terra'</li><li>'lubridate'</li><li>'forcats'</li><li>'stringr'</li><li>'readr'</li><li>'tidyr'</li><li>'tibble'</li><li>'ggplot2'</li><li>'tidyverse'</li><li>'purrr'</li><li>'sf'</li><li>'dplyr'</li><li>'pacman'</li></ol>\n"
      ],
      "text/latex": [
       "\\begin{enumerate*}\n",
       "\\item 'exactextractr'\n",
       "\\item 'raster'\n",
       "\\item 'sp'\n",
       "\\item 'terra'\n",
       "\\item 'lubridate'\n",
       "\\item 'forcats'\n",
       "\\item 'stringr'\n",
       "\\item 'readr'\n",
       "\\item 'tidyr'\n",
       "\\item 'tibble'\n",
       "\\item 'ggplot2'\n",
       "\\item 'tidyverse'\n",
       "\\item 'purrr'\n",
       "\\item 'sf'\n",
       "\\item 'dplyr'\n",
       "\\item 'pacman'\n",
       "\\end{enumerate*}\n"
      ],
      "text/markdown": [
       "1. 'exactextractr'\n",
       "2. 'raster'\n",
       "3. 'sp'\n",
       "4. 'terra'\n",
       "5. 'lubridate'\n",
       "6. 'forcats'\n",
       "7. 'stringr'\n",
       "8. 'readr'\n",
       "9. 'tidyr'\n",
       "10. 'tibble'\n",
       "11. 'ggplot2'\n",
       "12. 'tidyverse'\n",
       "13. 'purrr'\n",
       "14. 'sf'\n",
       "15. 'dplyr'\n",
       "16. 'pacman'\n",
       "\n",
       "\n"
      ],
      "text/plain": [
       " [1] \"exactextractr\" \"raster\"        \"sp\"            \"terra\"        \n",
       " [5] \"lubridate\"     \"forcats\"       \"stringr\"       \"readr\"        \n",
       " [9] \"tidyr\"         \"tibble\"        \"ggplot2\"       \"tidyverse\"    \n",
       "[13] \"purrr\"         \"sf\"            \"dplyr\"         \"pacman\"       "
      ]
     },
     "metadata": {},
     "output_type": "display_data"
    }
   ],
   "source": [
    "# libraries\n",
    "# Load R libraries\n",
    " if(!require(\"pacman\"))\n",
    "     install.packages(\"pacman\")\n",
    "     library(\"pacman\")\n",
    "\n",
    "p_load(\"dplyr\", \"sf\", \"purrr\", \"tidyverse\", \"terra\", \"raster\", \"exactextractr\")\n",
    "\n",
    "print(\"Loaded Packages:\")\n",
    "p_loaded()"
   ]
  },
  {
   "cell_type": "code",
   "execution_count": 2,
   "id": "a14d226c",
   "metadata": {},
   "outputs": [],
   "source": [
    "# create the pipeline directory if it does not exist\n",
    "pipelineDir <- file.path(\"../..\",\"2_pipeline\",\"Athens\",\"1b_Copernicus\",\"2011\")\n",
    "if(!dir.exists(pipelineDir)){\n",
    "    dir.create(pipelineDir, recursive = TRUE)\n",
    "    print(paste0(pipelineDir, \" created\"))\n",
    "}\n",
    "\n",
    "country <- \"Greece\""
   ]
  },
  {
   "cell_type": "code",
   "execution_count": 3,
   "id": "4cf607ac",
   "metadata": {},
   "outputs": [
    {
     "name": "stdout",
     "output_type": "stream",
     "text": [
      "Reading layer `GR.Municipalities' from data source \n",
      "  `/Cities/0_data/Athens/OA/GR.Municipalities.shp' using driver `ESRI Shapefile'\n",
      "Simple feature collection with 325 features and 14 fields\n",
      "Geometry type: MULTIPOLYGON\n",
      "Dimension:     XY\n",
      "Bounding box:  xmin: 104040.7 ymin: 3850938 xmax: 1007943 ymax: 4624010\n",
      "Projected CRS: GGRS87 / Greek Grid\n"
     ]
    }
   ],
   "source": [
    "# Setup\n",
    "\n",
    "# Copernicus folder\n",
    "copDir <- \"../../0_data/Athens/Copernicus/\"\n",
    "\n",
    "highResLayers <- c(\"IMD\", \"TCD\") # testing\n",
    "\n",
    "# census output areas\n",
    "censusOA <- st_read(\"../../0_data/Athens/OA/GR.Municipalities.shp\")\n",
    "\n",
    "#terraOptions(tempdir = pipelineDir)"
   ]
  },
  {
   "cell_type": "code",
   "execution_count": 4,
   "id": "f0e29052",
   "metadata": {},
   "outputs": [
    {
     "name": "stdout",
     "output_type": "stream",
     "text": [
      "[1] \"Processing: IMD\"\n",
      "[1] \"TRUE already created\"\n",
      "[1] \"Processing: TCD\"\n",
      "[1] \"TRUE already created\"\n"
     ]
    }
   ],
   "source": [
    "# need to join copernicus tiles together\n",
    "for(cop in highResLayers){\n",
    "    print(paste0(\"Processing: \", cop))\n",
    "    flush.console()\n",
    "    \n",
    "    #export path\n",
    "    countryCopPath <- paste0(pipelineDir, \"/\", country, \"_\", cop, \".tif\")\n",
    "\n",
    "    # have the tiles been joined together already?\n",
    "    countryCopCheck <- file.exists(countryCopPath)\n",
    "    \n",
    "    if(countryCopCheck){\n",
    "        print(paste0(countryCopCheck, \" already created\"))\n",
    "        flush.console()\n",
    "    } else {\n",
    "        # join the tiles together and export it\n",
    "        \n",
    "        # get the files\n",
    "        tiles <- list.files(copDir, full.names = TRUE, recursive = TRUE, pattern=paste0(\".*\", cop, \".*\\\\.tif$\"))  \n",
    "        \n",
    "        # create an image catalog\n",
    "        ic <- terra::sprc(lapply(tiles, rast))\n",
    "        \n",
    "        # mosic the tiles\n",
    "        icMosaic <- mosaic(ic, filename = countryCopPath, fun=\"max\", overwrite=TRUE)\n",
    "        #icMosaic <- merge(ic, filename = countryCopPath, overwrite=TRUE) # quicker\n",
    "    }\n",
    "}"
   ]
  },
  {
   "cell_type": "code",
   "execution_count": 5,
   "id": "f7f1ac5b",
   "metadata": {},
   "outputs": [
    {
     "data": {
      "text/plain": [
       "[1] \"2025-01-15 21:58:20 GMT\""
      ]
     },
     "metadata": {},
     "output_type": "display_data"
    },
    {
     "name": "stderr",
     "output_type": "stream",
     "text": [
      "Warning message in .local(x, y, ...):\n",
      "“Polygons transformed to raster CRS (EPSG:3035)”\n",
      "Cannot preload entire working area of 6928191312 cells with max_cells_in_memory = 3e+07. Raster values will be read for each feature individually.\n",
      "\n"
     ]
    },
    {
     "name": "stdout",
     "output_type": "stream",
     "text": [
      "\n",
      " |======================================================================| 100%"
     ]
    },
    {
     "name": "stderr",
     "output_type": "stream",
     "text": [
      "Warning message in .local(x, y, ...):\n",
      "“Polygons transformed to raster CRS (EPSG:3035)”\n",
      "Cannot preload entire working area of 6928191312 cells with max_cells_in_memory = 3e+07. Raster values will be read for each feature individually.\n",
      "\n"
     ]
    },
    {
     "name": "stdout",
     "output_type": "stream",
     "text": [
      "\n",
      " |======================================================================| 100%"
     ]
    },
    {
     "data": {
      "text/plain": [
       "[1] \"2025-01-15 22:18:40 GMT\""
      ]
     },
     "metadata": {},
     "output_type": "display_data"
    }
   ],
   "source": [
    "Sys.time()\n",
    "censusOA_IMD <- censusOA\n",
    "\n",
    "# Impervious surface\n",
    "copRaster <- rast(paste0(pipelineDir, \"/\", country, \"_\", \"IMD\", \".tif\"))\n",
    "\n",
    "# #calculate the area of the raster cell (m2)\n",
    "cellArea <- res(copRaster)[1]*res(copRaster)[2]\n",
    "\n",
    "# #calculate the number of cells within each output area  \n",
    "censusOA_IMD$cellArea_m2 <- exact_extract(copRaster, censusOA_IMD, 'count', coverage_area = TRUE, progress = TRUE)\n",
    "\n",
    "# calculate the area of each output area that is impervious\n",
    "censusOA_IMD$impArea_m2 <- exact_extract(copRaster, censusOA_IMD, 'sum', progress = TRUE)\n",
    "\n",
    "# #calculate the percentage of each output area that is impervious\n",
    "censusOA_IMD$impPerc <- round((censusOA_IMD$impArea_m2/censusOA_IMD$cellArea_m2)*100, 3)\n",
    "\n",
    "# head(censusOA_IMD)\n",
    "Sys.time()"
   ]
  },
  {
   "cell_type": "code",
   "execution_count": 6,
   "id": "ecef30ee",
   "metadata": {},
   "outputs": [
    {
     "name": "stdout",
     "output_type": "stream",
     "text": [
      "Deleting source `../../2_pipeline/Athens/1b_Copernicus/2011/oa_IMD.geojson' using driver `GeoJSON'\n",
      "Writing layer `oa_IMD' to data source \n",
      "  `../../2_pipeline/Athens/1b_Copernicus/2011/oa_IMD.geojson' using driver `GeoJSON'\n",
      "Writing 325 features with 17 fields and geometry type Multi Polygon.\n"
     ]
    }
   ],
   "source": [
    "#output the data as a geojson\n",
    "st_write(censusOA_IMD, file.path(pipelineDir, \"oa_IMD.geojson\"), delete_dsn = TRUE)"
   ]
  },
  {
   "cell_type": "code",
   "execution_count": 7,
   "id": "bea93c90",
   "metadata": {},
   "outputs": [
    {
     "data": {
      "text/plain": [
       "[1] \"2025-01-15 22:18:42 GMT\""
      ]
     },
     "metadata": {},
     "output_type": "display_data"
    },
    {
     "name": "stderr",
     "output_type": "stream",
     "text": [
      "Warning message in .local(x, y, ...):\n",
      "“Polygons transformed to raster CRS (EPSG:3035)”\n",
      "Cannot preload entire working area of 6928191312 cells with max_cells_in_memory = 3e+07. Raster values will be read for each feature individually.\n",
      "\n"
     ]
    },
    {
     "name": "stdout",
     "output_type": "stream",
     "text": [
      "\n",
      " |======================================================================| 100%"
     ]
    },
    {
     "name": "stderr",
     "output_type": "stream",
     "text": [
      "Warning message in .local(x, y, ...):\n",
      "“Polygons transformed to raster CRS (EPSG:3035)”\n",
      "Cannot preload entire working area of 6928191312 cells with max_cells_in_memory = 3e+07. Raster values will be read for each feature individually.\n",
      "\n"
     ]
    },
    {
     "name": "stdout",
     "output_type": "stream",
     "text": [
      "\n",
      " |======================================================================| 100%"
     ]
    },
    {
     "data": {
      "text/plain": [
       "[1] \"2025-01-15 22:44:12 GMT\""
      ]
     },
     "metadata": {},
     "output_type": "display_data"
    }
   ],
   "source": [
    "Sys.time()\n",
    "censusOA_TCD <- censusOA\n",
    "# TREE COVER DENSITY\n",
    "# cell size = 100 m2, therefore a percentage value directly equals m2, i.e. 100% coverage = 100 m2 area of impervious surface\n",
    "\n",
    "# data\n",
    "copRaster <- rast(paste0(pipelineDir, \"/\", country, \"_\", \"TCD\", \".tif\"))\n",
    "\n",
    "# #calculate the area of the raster cell (m2)\n",
    "cellArea <- res(copRaster)[1]*res(copRaster)[2]\n",
    "\n",
    "# #calculate the number of cells within each output area \n",
    "censusOA_TCD$cellArea_m2 <- exact_extract(copRaster, censusOA_TCD, 'count', coverage_area = TRUE, progress = TRUE)\n",
    "\n",
    "# calculate the area of each output area that has tree cover\n",
    "censusOA_TCD$tcdArea_m2 <- exact_extract(copRaster, censusOA_TCD, 'sum', progress = TRUE)\n",
    "\n",
    "# #calculate the percentage of each output area that has tree cover\n",
    "censusOA_TCD$tcdPerc <- round((censusOA_TCD$tcdArea_m2/censusOA_TCD$cellArea_m2)*100, 3)\n",
    "\n",
    "# head(censusOA_TCD)\n",
    "Sys.time()"
   ]
  },
  {
   "cell_type": "code",
   "execution_count": 8,
   "id": "f0bc25eb",
   "metadata": {},
   "outputs": [
    {
     "name": "stdout",
     "output_type": "stream",
     "text": [
      "Deleting source `../../2_pipeline/Athens/1b_Copernicus/2011/oa_TCD.geojson' using driver `GeoJSON'\n",
      "Writing layer `oa_TCD' to data source \n",
      "  `../../2_pipeline/Athens/1b_Copernicus/2011/oa_TCD.geojson' using driver `GeoJSON'\n",
      "Writing 325 features with 17 fields and geometry type Multi Polygon.\n"
     ]
    }
   ],
   "source": [
    "#output the data as a geojson\n",
    "st_write(censusOA_TCD, file.path(pipelineDir, \"oa_TCD.geojson\"), delete_dsn = TRUE)"
   ]
  },
  {
   "cell_type": "markdown",
   "id": "385927d6-60ea-4463-b945-a23efe511269",
   "metadata": {},
   "source": [
    "**END**"
   ]
  }
 ],
 "metadata": {
  "kernelspec": {
   "display_name": "R",
   "language": "R",
   "name": "ir"
  },
  "language_info": {
   "codemirror_mode": "r",
   "file_extension": ".r",
   "mimetype": "text/x-r-source",
   "name": "R",
   "pygments_lexer": "r",
   "version": "4.1.3"
  }
 },
 "nbformat": 4,
 "nbformat_minor": 5
}
