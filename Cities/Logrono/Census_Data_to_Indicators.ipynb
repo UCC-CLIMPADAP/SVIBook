{
 "cells": [
  {
   "cell_type": "markdown",
   "metadata": {},
   "source": [
    "# Census Data to Indicators\n",
    "\n"
   ]
  },
  {
   "cell_type": "markdown",
   "metadata": {},
   "source": [
    "## Census Data\n",
    "\n",
    "The Central Statistics Office (CSO) has produced a dataset of [small area statistics](https://www.cso.ie/en/census/census2016reports/census2016smallareapopulationstatistics/) for the 2016 Census. This will be the main data source for use with the Irish Vulnerbility Assessment.\n"
   ]
  },
  {
   "cell_type": "markdown",
   "metadata": {},
   "source": [
    "### R Libraries\n",
    "\n",
    "The relvant R libraries are imported in to the kernal:"
   ]
  },
  {
   "cell_type": "code",
   "execution_count": 1,
   "metadata": {},
   "outputs": [
    {
     "name": "stderr",
     "output_type": "stream",
     "text": [
      "Loading required package: pacman\n",
      "\n"
     ]
    },
    {
     "name": "stdout",
     "output_type": "stream",
     "text": [
      "[1] \"Loaded Packages:\"\n"
     ]
    },
    {
     "data": {
      "text/html": [
       "<style>\n",
       ".list-inline {list-style: none; margin:0; padding: 0}\n",
       ".list-inline>li {display: inline-block}\n",
       ".list-inline>li:not(:last-child)::after {content: \"\\00b7\"; padding: 0 .5ex}\n",
       "</style>\n",
       "<ol class=list-inline><li>'lubridate'</li><li>'forcats'</li><li>'stringr'</li><li>'readr'</li><li>'tidyr'</li><li>'tibble'</li><li>'ggplot2'</li><li>'tidyverse'</li><li>'purrr'</li><li>'sf'</li><li>'dplyr'</li><li>'pacman'</li></ol>\n"
      ],
      "text/latex": [
       "\\begin{enumerate*}\n",
       "\\item 'lubridate'\n",
       "\\item 'forcats'\n",
       "\\item 'stringr'\n",
       "\\item 'readr'\n",
       "\\item 'tidyr'\n",
       "\\item 'tibble'\n",
       "\\item 'ggplot2'\n",
       "\\item 'tidyverse'\n",
       "\\item 'purrr'\n",
       "\\item 'sf'\n",
       "\\item 'dplyr'\n",
       "\\item 'pacman'\n",
       "\\end{enumerate*}\n"
      ],
      "text/markdown": [
       "1. 'lubridate'\n",
       "2. 'forcats'\n",
       "3. 'stringr'\n",
       "4. 'readr'\n",
       "5. 'tidyr'\n",
       "6. 'tibble'\n",
       "7. 'ggplot2'\n",
       "8. 'tidyverse'\n",
       "9. 'purrr'\n",
       "10. 'sf'\n",
       "11. 'dplyr'\n",
       "12. 'pacman'\n",
       "\n",
       "\n"
      ],
      "text/plain": [
       " [1] \"lubridate\" \"forcats\"   \"stringr\"   \"readr\"     \"tidyr\"     \"tibble\"   \n",
       " [7] \"ggplot2\"   \"tidyverse\" \"purrr\"     \"sf\"        \"dplyr\"     \"pacman\"   "
      ]
     },
     "metadata": {},
     "output_type": "display_data"
    }
   ],
   "source": [
    "# libraries\n",
    "# Load R libraries\n",
    " if(!require(\"pacman\"))\n",
    "     install.packages(\"pacman\")\n",
    "     library(\"pacman\")\n",
    "\n",
    "p_load(\"dplyr\", \"sf\", \"purrr\", \"tidyverse\")\n",
    "\n",
    "print(\"Loaded Packages:\")\n",
    "p_loaded()"
   ]
  },
  {
   "cell_type": "markdown",
   "metadata": {},
   "source": [
    "The Spanish 2021 Census data available at:\n",
    "https://www.ine.es/dyngs/INEbase/es/operacion.htm?c=Estadistica_C&cid=1254736176992&menu=resultados&idp=1254735572981"
   ]
  },
  {
   "cell_type": "code",
   "execution_count": 2,
   "metadata": {},
   "outputs": [],
   "source": [
    "# create the pipeline directory if it does not exist\n",
    "pipelineDir <- file.path(\"../..\",\"2_pipeline\",\"Logrono\",\"1a_CensusData\",\"2021\")\n",
    "if(!dir.exists(pipelineDir)){\n",
    "    dir.create(pipelineDir, recursive = TRUE)\n",
    "    print(paste0(pipelineDir, \" created\"))\n",
    "}\n",
    "\n",
    "# create the output directory if it does not exist\n",
    "outputDir <- file.path(\"../..\",\"3_outputs\",\"Logrono\",\"2021\")\n",
    "if(!dir.exists(outputDir)){\n",
    "    dir.create(outputDir, recursive = TRUE)\n",
    "    print(paste0(outputDir, \" created\"))\n",
    "}"
   ]
  },
  {
   "cell_type": "code",
   "execution_count": 3,
   "metadata": {},
   "outputs": [],
   "source": [
    "#Current Spanish 2021 Census is a mixture of:\n",
    "#  1) a static CSV or Excel downloaded from the Census website\n",
    "#  2) extra data from missing indicators appended into this CSV or Excel\n",
    "# in our case we read the CSV version\n",
    "census <- read.csv(\"../../0_data/Logrono/SpanishCensus/2021/Census_Data_2024-07-03_Census.csv\")"
   ]
  },
  {
   "cell_type": "markdown",
   "metadata": {},
   "source": [
    "### Import Census Output Areas \n",
    "\n",
    "The spatial output areas need to be ingested."
   ]
  },
  {
   "cell_type": "code",
   "execution_count": 4,
   "metadata": {},
   "outputs": [
    {
     "name": "stdout",
     "output_type": "stream",
     "text": [
      "Reading layer `SECC_CE_20210101' from data source \n",
      "  `/Cities/0_data/Logrono/OA/2021/Seccionado_2021/SECC_CE_20210101.shp' \n",
      "  using driver `ESRI Shapefile'\n",
      "Simple feature collection with 36333 features and 18 fields\n",
      "Geometry type: MULTIPOLYGON\n",
      "Dimension:     XY\n",
      "Bounding box:  xmin: -1004502 ymin: 3132130 xmax: 1126932 ymax: 4859240\n",
      "Projected CRS: ETRS89 / UTM zone 30N\n"
     ]
    }
   ],
   "source": [
    "#set the path to the census OA directory\n",
    "censusOAPath <- \"../../0_data/Logrono/OA/2021/Seccionado_2021/SECC_CE_20210101.shp\"\n",
    "\n",
    "#read the OA data\n",
    "censusOA <- st_read(censusOAPath)"
   ]
  },
  {
   "cell_type": "markdown",
   "metadata": {},
   "source": [
    "### Join Data to OU\n",
    "\n",
    "We need to join the census data to the spatial data."
   ]
  },
  {
   "cell_type": "code",
   "execution_count": 5,
   "metadata": {},
   "outputs": [],
   "source": [
    "#change column types\n",
    "censusOA$CCA <- as.integer(as.character(censusOA$CCA))\n",
    "censusOA$CPRO <- as.integer(as.character(censusOA$CPRO))\n",
    "censusOA$CMUN <- as.integer(as.character(censusOA$CMUN))\n",
    "censusOA$CDIS <- as.integer(as.character(censusOA$CDIS))\n",
    "censusOA$CSEC <- as.integer(as.character(censusOA$CSEC))"
   ]
  },
  {
   "cell_type": "code",
   "execution_count": 6,
   "metadata": {},
   "outputs": [],
   "source": [
    "# merge the data\n",
    "censusDataOA = merge(censusOA, census, by.x=c(\"CCA\", \"CPRO\", \"CMUN\", \"CDIS\", \"CSEC\"), by.y=c(\"ccaa\", \"CPRO\", \"CMUN\",\"dist\",\"secc\"))\n",
    "\n",
    "#drop geometry\n",
    "censusDataOANoGeom <- st_drop_geometry(censusDataOA)"
   ]
  },
  {
   "cell_type": "code",
   "execution_count": 7,
   "metadata": {},
   "outputs": [
    {
     "data": {
      "text/html": [
       "TRUE"
      ],
      "text/latex": [
       "TRUE"
      ],
      "text/markdown": [
       "TRUE"
      ],
      "text/plain": [
       "[1] TRUE"
      ]
     },
     "metadata": {},
     "output_type": "display_data"
    }
   ],
   "source": [
    "# test the join works by the row count\n",
    "nrow(censusDataOA)==nrow(census)"
   ]
  },
  {
   "cell_type": "code",
   "execution_count": 8,
   "metadata": {},
   "outputs": [
    {
     "name": "stdout",
     "output_type": "stream",
     "text": [
      "Deleting source `../../3_outputs/Logrono/2021/national_census_spain_2021.geojson' using driver `GeoJSON'\n",
      "Writing layer `national_census_spain_2021' to data source \n",
      "  `../../3_outputs/Logrono/2021/national_census_spain_2021.geojson' using driver `GeoJSON'\n",
      "Writing 343 features with 61 fields and geometry type Multi Polygon.\n"
     ]
    }
   ],
   "source": [
    "#output the joined data for backup\n",
    "st_write(obj = censusDataOA, file.path(outputDir, \"national_census_spain_2021.geojson\"), delete_dsn=TRUE)"
   ]
  },
  {
   "cell_type": "markdown",
   "metadata": {},
   "source": [
    "## Select only the relevant data\n",
    "\n",
    "We only require a subset of the census data for our purposes. We therefore need to extract the relevant data, then combine these to create our vulnerability indicators.\n"
   ]
  },
  {
   "cell_type": "markdown",
   "metadata": {},
   "source": [
    "### Persons Level Data\n",
    "\n",
    "We then get the persons level data and combine the variables together to create indicators:"
   ]
  },
  {
   "cell_type": "code",
   "execution_count": 9,
   "metadata": {},
   "outputs": [
    {
     "data": {
      "text/html": [
       "<table class=\"dataframe\">\n",
       "<caption>A data.frame: 6 × 17</caption>\n",
       "<thead>\n",
       "\t<tr><th></th><th scope=col>CUSEC</th><th scope=col>pop</th><th scope=col>c_ab0t4</th><th scope=col>c_ag0t4</th><th scope=col>c_amo75</th><th scope=col>c_afo75</th><th scope=col>t13_1</th><th scope=col>t4_1</th><th scope=col>fam_3plus</th><th scope=col>invert_t9_1</th><th scope=col>t8_1</th><th scope=col>t10_1</th><th scope=col>c_ac5t9</th><th scope=col>t22_1</th><th scope=col>t5_1</th><th scope=col>t20_2</th><th scope=col>fam_bb_1970</th></tr>\n",
       "\t<tr><th></th><th scope=col>&lt;chr&gt;</th><th scope=col>&lt;int&gt;</th><th scope=col>&lt;int&gt;</th><th scope=col>&lt;int&gt;</th><th scope=col>&lt;int&gt;</th><th scope=col>&lt;int&gt;</th><th scope=col>&lt;dbl&gt;</th><th scope=col>&lt;dbl&gt;</th><th scope=col>&lt;int&gt;</th><th scope=col>&lt;dbl&gt;</th><th scope=col>&lt;dbl&gt;</th><th scope=col>&lt;dbl&gt;</th><th scope=col>&lt;int&gt;</th><th scope=col>&lt;int&gt;</th><th scope=col>&lt;dbl&gt;</th><th scope=col>&lt;int&gt;</th><th scope=col>&lt;int&gt;</th></tr>\n",
       "</thead>\n",
       "<tbody>\n",
       "\t<tr><th scope=row>1</th><td>2600101001</td><td>236</td><td> 3</td><td> 3</td><td>20</td><td>18</td><td>0.03</td><td>0.10</td><td>NA</td><td>0.77</td><td>0.05</td><td>0.04</td><td>10</td><td> 46</td><td>0.11</td><td>13</td><td>NA</td></tr>\n",
       "\t<tr><th scope=row>2</th><td>2601001001</td><td> 92</td><td> 1</td><td> 1</td><td>11</td><td> 9</td><td>  NA</td><td>  NA</td><td>NA</td><td>  NA</td><td>  NA</td><td>  NA</td><td> 2</td><td> NA</td><td>  NA</td><td>NA</td><td>NA</td></tr>\n",
       "\t<tr><th scope=row>3</th><td>2610001001</td><td> 67</td><td> 1</td><td> 0</td><td> 5</td><td> 4</td><td>  NA</td><td>  NA</td><td>NA</td><td>  NA</td><td>  NA</td><td>  NA</td><td> 1</td><td> NA</td><td>  NA</td><td>NA</td><td>NA</td></tr>\n",
       "\t<tr><th scope=row>4</th><td>2610101001</td><td> 36</td><td> 0</td><td> 0</td><td> 2</td><td> 3</td><td>  NA</td><td>  NA</td><td>NA</td><td>  NA</td><td>  NA</td><td>  NA</td><td> 0</td><td> NA</td><td>  NA</td><td>NA</td><td>NA</td></tr>\n",
       "\t<tr><th scope=row>5</th><td>2610201001</td><td>628</td><td>10</td><td> 6</td><td>42</td><td>65</td><td>0.02</td><td>0.10</td><td>NA</td><td>0.78</td><td>0.03</td><td>0.17</td><td>16</td><td>103</td><td>0.09</td><td>20</td><td>NA</td></tr>\n",
       "\t<tr><th scope=row>6</th><td>2610201002</td><td>777</td><td>17</td><td>16</td><td>49</td><td>82</td><td>0.02</td><td>0.14</td><td>NA</td><td>0.76</td><td>0.01</td><td>0.15</td><td>40</td><td>138</td><td>0.11</td><td>15</td><td>NA</td></tr>\n",
       "</tbody>\n",
       "</table>\n"
      ],
      "text/latex": [
       "A data.frame: 6 × 17\n",
       "\\begin{tabular}{r|lllllllllllllllll}\n",
       "  & CUSEC & pop & c\\_ab0t4 & c\\_ag0t4 & c\\_amo75 & c\\_afo75 & t13\\_1 & t4\\_1 & fam\\_3plus & invert\\_t9\\_1 & t8\\_1 & t10\\_1 & c\\_ac5t9 & t22\\_1 & t5\\_1 & t20\\_2 & fam\\_bb\\_1970\\\\\n",
       "  & <chr> & <int> & <int> & <int> & <int> & <int> & <dbl> & <dbl> & <int> & <dbl> & <dbl> & <dbl> & <int> & <int> & <dbl> & <int> & <int>\\\\\n",
       "\\hline\n",
       "\t1 & 2600101001 & 236 &  3 &  3 & 20 & 18 & 0.03 & 0.10 & NA & 0.77 & 0.05 & 0.04 & 10 &  46 & 0.11 & 13 & NA\\\\\n",
       "\t2 & 2601001001 &  92 &  1 &  1 & 11 &  9 &   NA &   NA & NA &   NA &   NA &   NA &  2 &  NA &   NA & NA & NA\\\\\n",
       "\t3 & 2610001001 &  67 &  1 &  0 &  5 &  4 &   NA &   NA & NA &   NA &   NA &   NA &  1 &  NA &   NA & NA & NA\\\\\n",
       "\t4 & 2610101001 &  36 &  0 &  0 &  2 &  3 &   NA &   NA & NA &   NA &   NA &   NA &  0 &  NA &   NA & NA & NA\\\\\n",
       "\t5 & 2610201001 & 628 & 10 &  6 & 42 & 65 & 0.02 & 0.10 & NA & 0.78 & 0.03 & 0.17 & 16 & 103 & 0.09 & 20 & NA\\\\\n",
       "\t6 & 2610201002 & 777 & 17 & 16 & 49 & 82 & 0.02 & 0.14 & NA & 0.76 & 0.01 & 0.15 & 40 & 138 & 0.11 & 15 & NA\\\\\n",
       "\\end{tabular}\n"
      ],
      "text/markdown": [
       "\n",
       "A data.frame: 6 × 17\n",
       "\n",
       "| <!--/--> | CUSEC &lt;chr&gt; | pop &lt;int&gt; | c_ab0t4 &lt;int&gt; | c_ag0t4 &lt;int&gt; | c_amo75 &lt;int&gt; | c_afo75 &lt;int&gt; | t13_1 &lt;dbl&gt; | t4_1 &lt;dbl&gt; | fam_3plus &lt;int&gt; | invert_t9_1 &lt;dbl&gt; | t8_1 &lt;dbl&gt; | t10_1 &lt;dbl&gt; | c_ac5t9 &lt;int&gt; | t22_1 &lt;int&gt; | t5_1 &lt;dbl&gt; | t20_2 &lt;int&gt; | fam_bb_1970 &lt;int&gt; |\n",
       "|---|---|---|---|---|---|---|---|---|---|---|---|---|---|---|---|---|---|\n",
       "| 1 | 2600101001 | 236 |  3 |  3 | 20 | 18 | 0.03 | 0.10 | NA | 0.77 | 0.05 | 0.04 | 10 |  46 | 0.11 | 13 | NA |\n",
       "| 2 | 2601001001 |  92 |  1 |  1 | 11 |  9 |   NA |   NA | NA |   NA |   NA |   NA |  2 |  NA |   NA | NA | NA |\n",
       "| 3 | 2610001001 |  67 |  1 |  0 |  5 |  4 |   NA |   NA | NA |   NA |   NA |   NA |  1 |  NA |   NA | NA | NA |\n",
       "| 4 | 2610101001 |  36 |  0 |  0 |  2 |  3 |   NA |   NA | NA |   NA |   NA |   NA |  0 |  NA |   NA | NA | NA |\n",
       "| 5 | 2610201001 | 628 | 10 |  6 | 42 | 65 | 0.02 | 0.10 | NA | 0.78 | 0.03 | 0.17 | 16 | 103 | 0.09 | 20 | NA |\n",
       "| 6 | 2610201002 | 777 | 17 | 16 | 49 | 82 | 0.02 | 0.14 | NA | 0.76 | 0.01 | 0.15 | 40 | 138 | 0.11 | 15 | NA |\n",
       "\n"
      ],
      "text/plain": [
       "  CUSEC      pop c_ab0t4 c_ag0t4 c_amo75 c_afo75 t13_1 t4_1 fam_3plus\n",
       "1 2600101001 236  3       3      20      18      0.03  0.10 NA       \n",
       "2 2601001001  92  1       1      11       9        NA    NA NA       \n",
       "3 2610001001  67  1       0       5       4        NA    NA NA       \n",
       "4 2610101001  36  0       0       2       3        NA    NA NA       \n",
       "5 2610201001 628 10       6      42      65      0.02  0.10 NA       \n",
       "6 2610201002 777 17      16      49      82      0.02  0.14 NA       \n",
       "  invert_t9_1 t8_1 t10_1 c_ac5t9 t22_1 t5_1 t20_2 fam_bb_1970\n",
       "1 0.77        0.05 0.04  10       46   0.11 13    NA         \n",
       "2   NA          NA   NA   2       NA     NA NA    NA         \n",
       "3   NA          NA   NA   1       NA     NA NA    NA         \n",
       "4   NA          NA   NA   0       NA     NA NA    NA         \n",
       "5 0.78        0.03 0.17  16      103   0.09 20    NA         \n",
       "6 0.76        0.01 0.15  40      138   0.11 15    NA         "
      ]
     },
     "metadata": {},
     "output_type": "display_data"
    }
   ],
   "source": [
    "#PERSONS DATA\n",
    "\n",
    "#POPULATION TOTAL\n",
    "populationTotalData <- censusDataOANoGeom[, c('CUSEC', 't1_1'), drop = FALSE]\n",
    "names(populationTotalData)[2] <- 'pop'\n",
    "\n",
    "# variables using\n",
    "# t4_1 - Percentage of persons under 16 years of age\n",
    "# t5_1 - Percentage of foreign nationalities\n",
    "# t8_1 - Percentage of population attending university studies (escur = 09 10 11 12 ) sobre población de 16 y más\n",
    "# t9_1 - Percentage of people with higher education  (esreal_cneda=08 09 10 11 12) sobre población de 16 y más\n",
    "#        invert t9_1 to get percentage of people with no higher education\n",
    "# t10_1 - Percentage of unemployed population over active population = Parados /Activos\n",
    "# t13_1 - Percentage of pensioner population due to disability over population of 16 years or more\n",
    "# t20_2 - Dwellings in property\n",
    "# t22_1 - Households of 1 person\n",
    "# c_ab0t4 - Age 0-4 Boys\n",
    "# c_ag0t4 - Age 0-4 Girls\n",
    "# c_amo75 - Age-Male_75+\n",
    "# c_afo75 - Age Female_75+\n",
    "# c_ac5t9 - Children Age 5--9\n",
    "\n",
    "### Domain - Age \n",
    "###   Boys under 5 years of age\n",
    "###   Girls under 5 years of age\n",
    "###   Men over 75 years of age\n",
    "###   Women over 75 years of age\n",
    "ageIndicators <- c('c_ab0t4', 'c_ag0t4', 'c_amo75', 'c_afo75')\n",
    "ageDomain <- censusDataOANoGeom[, ageIndicators, drop = FALSE]\n",
    "\n",
    "### Domain - Health\n",
    "###  People with a disability preventing work\n",
    "healthIndicators <- c('t13_1')\n",
    "healthDomain <- censusDataOANoGeom[, healthIndicators, drop = FALSE]\n",
    "\n",
    "### Domain - Mobility\n",
    "###   Dependants Rate\n",
    "###   Three or more children per family\n",
    "mobilityIndicators <- c('t4_1', 'fam_3plus')\n",
    "mobilityDomain <- censusDataOANoGeom[, mobilityIndicators, drop = FALSE]\n",
    "\n",
    "### Domain - Income\n",
    "###   People with no higher education (invert t9_1)\n",
    "###   Population attending university\n",
    "###   Unemployment\n",
    "incomeIndicators <- c('t9_1', 't8_1', 't10_1')\n",
    "incomeDomain <- censusDataOANoGeom[, incomeIndicators, drop = FALSE]\n",
    "incomeDomain$t9_1 <- (1-incomeDomain$t9_1)\n",
    "colnames(incomeDomain)[1] <- \"invert_t9_1\"\n",
    "\n",
    "## invert the housholds owned score\n",
    "#householdDataZ$homesOwned_pct_Z <- householdDataZ$homesOwned_pct_Z*-1\n",
    "\n",
    "### Domain - Social Network\n",
    "###   Primary School Age Children\n",
    "###   Households with one person\n",
    "socialNetworkIndicators <- c('c_ac5t9', 't22_1')\n",
    "socialNetworkDomain <- censusDataOANoGeom[, socialNetworkIndicators, drop = FALSE]\n",
    "\n",
    "### Domain - Local Knowledge\n",
    "###   Percentage of foreign nationals\n",
    "localKnowledgeIndicators <- c('t5_1')\n",
    "localKnowledgeDomain <- censusDataOANoGeom[, localKnowledgeIndicators, drop = FALSE]\n",
    "\n",
    "### Domain - Tenure\n",
    "###   Households renting\n",
    "tenureIndicators <- c('t20_2')\n",
    "tenureDomain <- censusDataOANoGeom[, tenureIndicators, drop = FALSE]\n",
    "\n",
    "### Domain - Housing Characteristics\n",
    "###   Dwelling Construction Year\n",
    "housingCharacteristicsIndicators <- c('fam_bb_1970')\n",
    "housingCharacteristicsDomain <- censusDataOANoGeom[, housingCharacteristicsIndicators, drop = FALSE]\n",
    "\n",
    "#combine all the data into one table\n",
    "personsData<- cbind(populationTotalData,\n",
    "                    ageDomain,\n",
    "                    healthDomain,\n",
    "                    mobilityDomain,\n",
    "                    incomeDomain,\n",
    "                    socialNetworkDomain,\n",
    "                    localKnowledgeDomain,\n",
    "                    tenureDomain,\n",
    "                    housingCharacteristicsDomain\n",
    "                   )\n",
    "head(personsData)\n",
    "\n",
    "#output the data as a csv\n",
    "# output the data as a csv\n",
    "write.csv(personsData, file.path(pipelineDir, \"persons_oa_raw.csv\"), row.names = FALSE)"
   ]
  },
  {
   "cell_type": "markdown",
   "metadata": {},
   "source": [
    "### Household Level Data\n",
    "\n",
    "We then get the household level data and combine the variables together to create indicators:"
   ]
  },
  {
   "cell_type": "code",
   "execution_count": 10,
   "metadata": {},
   "outputs": [],
   "source": [
    "# TEMP below while no household data\n",
    "\n",
    "##HOUSEHOLD DATA\n",
    "#\n",
    "##HOUSEHOLDS TOTAL\n",
    "#householdsTotalData <- censusDataOANoGeom[, c('CUSEC', 't21_1'), drop = FALSE] #Total households (No. of households)\n",
    "#names(householdsTotalData)[2] <- 'householdsTotal'\n",
    "#\n",
    "##Renting \n",
    "#rentingData <- censusDataOANoGeom[, 't18_4', drop = FALSE]  \n",
    "#rentingData$renting <- apply(rentingData,1,sum)\n",
    "#rentingData <- select(rentingData, 'renting')\n",
    "#\n",
    "##Free housing \n",
    "#freeHousingData <- censusDataOANoGeom[, 't18_5', drop = FALSE]  \n",
    "#freeHousingData$freeHousing <- apply(freeHousingData,1,sum)\n",
    "#freeHousingData <- select(freeHousingData, 'freeHousing')\n",
    "#\n",
    "## Homes owned\n",
    "#homesOwnedVariables <- c(\n",
    "#    't18_1', #Homes owned, by purchase, fully paid for\n",
    "#    't18_2', #Homes owned, by purchase, with payments due\n",
    "#    't18_3' #Homes owned, inherited or donated\n",
    "#\n",
    "#)\n",
    "#\n",
    "#homesOwnedData <- censusDataOANoGeom[, homesOwnedVariables, drop = FALSE]\n",
    "#homesOwnedData$homesOwned <- apply(homesOwnedData,1,sum)\n",
    "#homesOwnedData <- select(homesOwnedData, 'homesOwned')\n",
    "#\n",
    "## #ONE PERSON HOUSEHOLDS\n",
    "#onePersonData <- censusDataOANoGeom[, 't22_1', drop = FALSE] #One person households (No. of households)\n",
    "#onePersonData$onePerson <- apply(onePersonData,1,sum)\n",
    "#onePersonData <- select(onePersonData, 'onePerson')\n",
    "#\n",
    "#\n",
    "##combine all the data into one table\n",
    "#householdData <- cbind(householdsTotalData,\n",
    "#                       rentingData,\n",
    "#                       homesOwnedData,\n",
    "#                       freeHousingData,\n",
    "#                       onePersonData\n",
    "#                    )\n",
    "##inspect the table\n",
    "#head(householdData)\n",
    "#\n",
    "##get the number of columns in the data\n",
    "#householdDataColLength = ncol(householdData)\n",
    "#\n",
    "## output the data as a csv\n",
    "#write.csv(householdData, file.path(pipelineDir,\"households_oa_raw_2011.csv\"), row.names = FALSE)"
   ]
  },
  {
   "cell_type": "markdown",
   "metadata": {},
   "source": [
    "## Percentages\n",
    "\n",
    "The raw data is not suitable for use within the vulnerabiltiy assessment. It needs to be normalised based on the number of people/households within each small area. Therefore, the data is converted to percentages based on the total persons/households within each small area."
   ]
  },
  {
   "cell_type": "markdown",
   "metadata": {},
   "source": [
    "### Persons Percentages"
   ]
  },
  {
   "cell_type": "code",
   "execution_count": 11,
   "metadata": {},
   "outputs": [],
   "source": [
    "#PERSONS DATA\n",
    "\n",
    "# some data is already in percentage, but these are not. We need to convert these to percentage.\n",
    "makepercentage <- c('c_ab0t4', 'c_ag0t4', 'c_amo75', 'c_afo75', 'c_ac5t9', 't22_1', 't20_2', 'fam_3plus', 'fam_bb_1970')\n",
    "\n",
    "#Copy the data\n",
    "personsDataPct <- personsData\n",
    "\n",
    "#get the number of columns in the data\n",
    "personsDataColLength = ncol(personsData)\n",
    "\n",
    "#Calculate the percentages for each of the relevant columns - starting at the 4th column\n",
    "for(col in names(personsDataPct)[3:personsDataColLength]) {\n",
    "  if( col %in% makepercentage ){\n",
    "      personsDataPct[paste0(col, \"_pct\")] = (personsDataPct[col] / personsDataPct$pop)*100\n",
    "  } else {\n",
    "      # already as percentage\n",
    "      personsDataPct[paste0(col, \"_pct\")] = personsDataPct[col]\n",
    "  }\n",
    "}\n",
    "#remove the original data to leave only the percentages\n",
    "personsDataPct <- personsDataPct[-c(2:personsDataColLength)]\n",
    "#head(personsDataPct)\n",
    "\n",
    "#output the data as a csv\n",
    "write.csv(personsDataPct, file.path(pipelineDir,\"persons_oa_pct_data.csv\"), row.names = FALSE)"
   ]
  },
  {
   "cell_type": "markdown",
   "metadata": {},
   "source": [
    "### Household Percentages"
   ]
  },
  {
   "cell_type": "code",
   "execution_count": 12,
   "metadata": {},
   "outputs": [],
   "source": [
    "# TEMP below while no household data\n",
    "\n",
    "##HOUSEHOLD DATA\n",
    "#\n",
    "##Copy the data\n",
    "#householdDataPct <- householdData\n",
    "#\n",
    "##Calculate the percentages for each of the relevant columns - starting at the 4th column\n",
    "#for(col in names(householdDataPct)[3:ncol(householdDataPct)]) {\n",
    "#  householdDataPct[paste0(col, \"_pct\")] = (householdDataPct[col] / householdDataPct$householdsTotal)*100\n",
    "#}\n",
    "#\n",
    "##remove the original data to leave only the percentages\n",
    "#householdDataPct <- householdDataPct[-c(2:householdDataColLength)]\n",
    "## head(householdDataPct)\n",
    "#\n",
    "## output the data as a csv\n",
    "#write.csv(householdDataPct, file.path(pipelineDir,\"households_oa_pct_data_2011.csv\"), row.names = FALSE)"
   ]
  },
  {
   "cell_type": "markdown",
   "metadata": {},
   "source": [
    "## Z-Scores\n",
    "\n",
    "The raw data is not suitable for use within the vulnerabiltiy assessment. It needs to be standardised. Therefore, the data is converted to z-scores. Z-scores are:\n",
    "\n",
    ">\"A statistical measurement of a score's relationship to the mean (average value) in a group of scores. A Z-score of 0 means the score is the same as the mean (average value). A Z-score can be positive or negative, indicating whether it is above or below the mean and by how many standard deviations. Z-score standardisation represents the deviation of a raw score from its mean in standard deviation units.\" (Kazmierczak et al., 2015)"
   ]
  },
  {
   "cell_type": "markdown",
   "metadata": {},
   "source": [
    "## Persons Z-scores"
   ]
  },
  {
   "cell_type": "code",
   "execution_count": 13,
   "metadata": {},
   "outputs": [],
   "source": [
    "#PERSONS DATA\n",
    "\n",
    "#Copy the data\n",
    "personsDataZ <- personsDataPct\n",
    "\n",
    "#Calculate the z scores for each of the relevant columns - starting at the 2nd column\n",
    "for(col in names(personsDataZ)[2:ncol(personsDataZ)]) {\n",
    "  personsDataZ[paste0(col, \"_Z\")] = scale(personsDataZ[col])\n",
    "}\n",
    "\n",
    "#remove the original data to leave only the z scores\n",
    "personsDataZ <- personsDataZ[-c(2:ncol(personsDataPct))]\n",
    "# summary(personsDataZ)\n",
    "# head(personsDataZ)\n",
    "\n",
    "# output the data as a csv\n",
    "write.csv(personsDataZ, file.path(pipelineDir,\"persons_oa_z_data.csv\"), row.names = FALSE)"
   ]
  },
  {
   "cell_type": "markdown",
   "metadata": {},
   "source": [
    "## Households Z-scores"
   ]
  },
  {
   "cell_type": "code",
   "execution_count": 14,
   "metadata": {},
   "outputs": [],
   "source": [
    "# TEMP below while no household data\n",
    "\n",
    "##HOUSEHOLD DATA\n",
    "#\n",
    "##Copy the data\n",
    "#householdDataZ <- householdDataPct\n",
    "#\n",
    "##Calculate the z scores for each of the relevant columns - starting at the 3rd column\n",
    "#for(col in names(householdDataZ)[2:ncol(householdDataZ)]) {\n",
    "#  householdDataZ[paste0(col, \"_Z\")] = scale(householdDataZ[col])\n",
    "#}\n",
    "#\n",
    "##remove the original data to leave only the z scores\n",
    "#householdDataZ <- householdDataZ[-c(2:ncol(householdDataPct))]\n",
    "## summary(householdDataZ)\n",
    "## head(householdDataZ)\n",
    "#\n",
    "## invert the housholds owned score\n",
    "#householdDataZ$homesOwned_pct_Z <- householdDataZ$homesOwned_pct_Z*-1\n",
    "#\n",
    "##output the data as a csv\n",
    "#write.csv(householdDataZ, file.path(pipelineDir,\"households_oa_z_data_2011.csv\"), row.names = FALSE)"
   ]
  },
  {
   "cell_type": "markdown",
   "metadata": {},
   "source": [
    "## Combine Data\n",
    "\n",
    "The persons level and household level data are then combined into a single CSV:"
   ]
  },
  {
   "cell_type": "code",
   "execution_count": 15,
   "metadata": {},
   "outputs": [
    {
     "name": "stdout",
     "output_type": "stream",
     "text": [
      "Deleting source `../../2_pipeline/Logrono/1a_CensusData/2021/census_persons_oa_z_data.geojson' using driver `GeoJSON'\n",
      "Writing layer `census_persons_oa_z_data' to data source \n",
      "  `../../2_pipeline/Logrono/1a_CensusData/2021/census_persons_oa_z_data.geojson' using driver `GeoJSON'\n",
      "Writing 343 features with 16 fields and geometry type Multi Polygon.\n"
     ]
    }
   ],
   "source": [
    "##Combine the RAW persons and household data\n",
    "#personsHouseholdDataCombined <- cbind(personsData,\n",
    "#                                       householdData[2:ncol(householdData)])\n",
    "#\n",
    "##output the data as a csv\n",
    "#write.csv(personsHouseholdDataCombined, file.path(pipelineDir, \"census_oa_raw_data_2011.csv\"), row.names = FALSE)\n",
    "#\n",
    "##Combine the % persons and household data\n",
    "#personsHouseholdPctDataCombined <- cbind(personsDataPct,\n",
    "#                                       householdDataPct[2:ncol(householdDataPct)])\n",
    "#\n",
    "##output the data as a csv\n",
    "#write.csv(personsHouseholdPctDataCombined, file.path(pipelineDir, \"census_oa_pct_data_2011.csv\"), row.names = FALSE)\n",
    "#\n",
    "##Combine the Z-score persons and household data\n",
    "#personsHouseholdZDataCombined <- cbind(personsDataZ,\n",
    "#                                       householdDataZ[2:ncol(householdDataZ)])\n",
    "#\n",
    "#names(personsHouseholdZDataCombined) <- gsub(\"_pct_Z\",\"\",names(personsHouseholdZDataCombined))\n",
    "#\n",
    "##output the data as a csv\n",
    "#write.csv(personsHouseholdZDataCombined, file.path(pipelineDir, \"census_oa_z_data_2011.csv\"), row.names = FALSE)\n",
    "#\n",
    "##output geojson\n",
    "#personsHouseholdDataCombinedSFOA <- subset(censusDataOA, select = c('CUSEC', 'geometry'))\n",
    "#personsHouseholdDataCombinedSF <- merge(personsHouseholdDataCombinedSFOA,personsHouseholdZDataCombined, by = \"CUSEC\")\n",
    "#\n",
    "#st_write(obj= personsHouseholdDataCombinedSF, file.path(pipelineDir, \"census_persons_oa_z_data_2011.geojson\"), delete_dsn=TRUE)\n",
    "\n",
    "# TEMP below while no household data\n",
    "# output geojson\n",
    "personsHouseholdDataCombinedSFOA <- subset(censusDataOA, select = c('CUSEC', 'geometry'))\n",
    "personsHouseholdDataCombinedSF <- merge(personsHouseholdDataCombinedSFOA,personsDataZ, by = \"CUSEC\")\n",
    "\n",
    "st_write(obj= personsHouseholdDataCombinedSF, file.path(pipelineDir, \"census_persons_oa_z_data.geojson\"), delete_dsn=TRUE)"
   ]
  },
  {
   "cell_type": "markdown",
   "metadata": {},
   "source": [
    "## Logroño\n",
    "\n",
    "Get the analysis just for Logroño.\n"
   ]
  },
  {
   "cell_type": "code",
   "execution_count": 16,
   "metadata": {},
   "outputs": [],
   "source": [
    "# get the logrono OAs\n",
    "logOA <- censusOA %>% filter(NCA == 'La Rioja')"
   ]
  },
  {
   "cell_type": "code",
   "execution_count": 17,
   "metadata": {},
   "outputs": [],
   "source": [
    "## get the log data\n",
    "#logData <- filter(personsHouseholdDataCombined, CUSEC %in% logOA$CUSEC)\n",
    "#logDataPct <- filter(personsHouseholdPctDataCombined, CUSEC %in% logOA$CUSEC)\n",
    "\n",
    "# TEMP below while no household data\n",
    "# get the log data\n",
    "logData <- filter(personsData, CUSEC %in% logOA$CUSEC)\n",
    "logDataPct <- filter(personsDataPct, CUSEC %in% logOA$CUSEC)"
   ]
  },
  {
   "cell_type": "code",
   "execution_count": 18,
   "metadata": {},
   "outputs": [],
   "source": [
    "# caluclate the z scores based on just the region\n",
    "\n",
    "#Copy the data\n",
    "logDataZ <- logDataPct\n",
    "\n",
    "#Calculate the z scores for each of the relevant columns - starting at the 3rd column\n",
    "for(col in names(logDataZ)[2:ncol(logDataZ)]) {\n",
    "  logDataZ[paste0(col, \"_Z\")] = scale(logDataZ[col])\n",
    "}\n",
    "\n",
    "#remove the original data to leave only the z scores\n",
    "logDataZ <- logDataZ[-c(2:ncol(logDataPct))]\n",
    "\n",
    "## invert the housholds owned score\n",
    "#logDataZ$homesOwned_pct_Z <- logDataZ$homesOwned_pct_Z*-1"
   ]
  },
  {
   "cell_type": "code",
   "execution_count": 19,
   "metadata": {},
   "outputs": [
    {
     "name": "stdout",
     "output_type": "stream",
     "text": [
      "Deleting source `../../2_pipeline/Logrono/1a_CensusData/2021/census_persons_oa_z_data_log.geojson' using driver `GeoJSON'\n",
      "Writing layer `census_persons_oa_z_data_log' to data source \n",
      "  `../../2_pipeline/Logrono/1a_CensusData/2021/census_persons_oa_z_data_log.geojson' using driver `GeoJSON'\n",
      "Writing 343 features with 47 fields and geometry type Multi Polygon.\n"
     ]
    }
   ],
   "source": [
    "#output the data as a csv\n",
    "write.csv(logData, file.path(pipelineDir, \"census_oa_raw_data_log.csv\"), row.names = FALSE)\n",
    "\n",
    "write.csv(logDataPct, file.path(pipelineDir, \"census_oa_pct_data_log.csv\"), row.names = FALSE)\n",
    "\n",
    "write.csv(logDataZ, file.path(pipelineDir, \"census_oa_z_data_log.csv\"), row.names = FALSE)\n",
    "\n",
    "logCombined <- subset(logOA, select = c('CUSEC', 'geometry'))\n",
    "logCombined <- merge(logCombined,logData, by = \"CUSEC\")\n",
    "logCombined <- merge(logCombined,logDataPct, by = \"CUSEC\")\n",
    "logCombined <- merge(logCombined,logDataZ, by = \"CUSEC\")\n",
    "\n",
    "#output geojson\n",
    "st_write(obj= logCombined, file.path(pipelineDir, \"census_persons_oa_z_data_log.geojson\"), delete_dsn=TRUE)\n",
    "\n",
    "# personsHouseholdDataCombinedSFOA <- subset(censusDataOA, select = c('CUSEC', 'geometry'))\n",
    "# personsHouseholdDataCombinedSF <- merge(personsHouseholdDataCombinedSFOA,personsHouseholdZDataCombined, by = \"CUSEC\")"
   ]
  },
  {
   "cell_type": "markdown",
   "metadata": {},
   "source": [
    "**END**"
   ]
  }
 ],
 "metadata": {
  "kernelspec": {
   "display_name": "R",
   "language": "R",
   "name": "ir"
  },
  "language_info": {
   "codemirror_mode": "r",
   "file_extension": ".r",
   "mimetype": "text/x-r-source",
   "name": "R",
   "pygments_lexer": "r",
   "version": "4.1.3"
  },
  "toc": {
   "base_numbering": 1,
   "nav_menu": {},
   "number_sections": true,
   "sideBar": true,
   "skip_h1_title": false,
   "title_cell": "Table of Contents",
   "title_sidebar": "Contents",
   "toc_cell": false,
   "toc_position": {},
   "toc_section_display": true,
   "toc_window_display": false
  }
 },
 "nbformat": 4,
 "nbformat_minor": 4
}
