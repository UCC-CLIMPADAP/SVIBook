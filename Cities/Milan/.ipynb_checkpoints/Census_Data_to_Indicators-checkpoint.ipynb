{
 "cells": [
  {
   "cell_type": "markdown",
   "metadata": {},
   "source": [
    "# Census Data to Indicators"
   ]
  },
  {
   "cell_type": "markdown",
   "metadata": {},
   "source": [
    "## Environment"
   ]
  },
  {
   "cell_type": "markdown",
   "metadata": {},
   "source": [
    "### R Libraries\n",
    "The relvant R libraries are imported in to the kernal:"
   ]
  },
  {
   "cell_type": "code",
   "execution_count": 1,
   "metadata": {},
   "outputs": [
    {
     "name": "stderr",
     "output_type": "stream",
     "text": [
      "Loading required package: pacman\n",
      "\n"
     ]
    },
    {
     "name": "stdout",
     "output_type": "stream",
     "text": [
      "[1] \"Loaded Packages:\"\n"
     ]
    },
    {
     "data": {
      "text/html": [
       "<style>\n",
       ".list-inline {list-style: none; margin:0; padding: 0}\n",
       ".list-inline>li {display: inline-block}\n",
       ".list-inline>li:not(:last-child)::after {content: \"\\00b7\"; padding: 0 .5ex}\n",
       "</style>\n",
       "<ol class=list-inline><li>'dplyr'</li><li>'sf'</li><li>'pacman'</li></ol>\n"
      ],
      "text/latex": [
       "\\begin{enumerate*}\n",
       "\\item 'dplyr'\n",
       "\\item 'sf'\n",
       "\\item 'pacman'\n",
       "\\end{enumerate*}\n"
      ],
      "text/markdown": [
       "1. 'dplyr'\n",
       "2. 'sf'\n",
       "3. 'pacman'\n",
       "\n",
       "\n"
      ],
      "text/plain": [
       "[1] \"dplyr\"  \"sf\"     \"pacman\""
      ]
     },
     "metadata": {},
     "output_type": "display_data"
    }
   ],
   "source": [
    "# Load R libraries\n",
    " if(!require(\"pacman\"))\n",
    "     install.packages(\"pacman\")\n",
    "     library(\"pacman\")\n",
    "\n",
    "#p_load(\"dplyr\", \"sf\", \"purrr\", \"tidyverse\")\n",
    "p_load(\"sf\", \"dplyr\")\n",
    "\n",
    "print(\"Loaded Packages:\")\n",
    "p_loaded()"
   ]
  },
  {
   "cell_type": "markdown",
   "metadata": {},
   "source": [
    "### Output directory"
   ]
  },
  {
   "cell_type": "code",
   "execution_count": 2,
   "metadata": {},
   "outputs": [],
   "source": [
    "# create the pipeline directory if it does not exist\n",
    "pipelineDir <- file.path(\"../..\",\"2_pipeline\",\"Milan\",\"1a_CensusData\",\"2021\")\n",
    "if(!dir.exists(pipelineDir)){\n",
    "    dir.create(pipelineDir, recursive = TRUE)\n",
    "    print(paste0(pipelineDir, \" created\"))\n",
    "}"
   ]
  },
  {
   "cell_type": "markdown",
   "metadata": {},
   "source": [
    "## Load Data"
   ]
  },
  {
   "cell_type": "markdown",
   "metadata": {},
   "source": [
    "### Import the csv data\n",
    "Italy census data from: http://dati-censimentopopolazione.istat.it/Index.aspx?lang=en and https://www.istat.it/it/"
   ]
  },
  {
   "cell_type": "code",
   "execution_count": 3,
   "metadata": {},
   "outputs": [],
   "source": [
    "# Read the census data\n",
    "censusData <- read.csv('../../0_data/Milan/ItalianCensus/2021/Milano_indicatori_2021_sezioni.csv', sep=\",\")"
   ]
  },
  {
   "cell_type": "markdown",
   "metadata": {},
   "source": [
    "## Prepare data\n",
    "We only require a subset of the census data for our purposes. We therefore need to extract the relevant data, then combine these to create our vulnerability indicators.\n",
    "\n",
    "In addition, the raw data is not suitable for use within the vulnerabiltiy assessment. It needs to be normalised based on the number of people/households within each small area. Therefore, the data is converted to percentages based on the total persons/households within each small area."
   ]
  },
  {
   "attachments": {},
   "cell_type": "markdown",
   "metadata": {},
   "source": [
    "### Supporting data"
   ]
  },
  {
   "attachments": {},
   "cell_type": "markdown",
   "metadata": {},
   "source": [
    "#### Code that uniquely identifies the census area"
   ]
  },
  {
   "cell_type": "code",
   "execution_count": 4,
   "metadata": {},
   "outputs": [
    {
     "data": {
      "text/html": [
       "5740"
      ],
      "text/latex": [
       "5740"
      ],
      "text/markdown": [
       "5740"
      ],
      "text/plain": [
       "[1] 5740"
      ]
     },
     "metadata": {},
     "output_type": "display_data"
    }
   ],
   "source": [
    "areaIDIndicators <- c('SEZ2011')\n",
    "areaID <- censusData[, areaIDIndicators, drop = FALSE]\n",
    "#areaID$SEZ2011 <- as.character(areaID$SEZ2011)\n",
    "\n",
    "censusDataRows = nrow(censusData)\n",
    "head(censusDataRows)"
   ]
  },
  {
   "attachments": {},
   "cell_type": "markdown",
   "metadata": {},
   "source": [
    "#### Population total"
   ]
  },
  {
   "cell_type": "code",
   "execution_count": 5,
   "metadata": {},
   "outputs": [
    {
     "data": {
      "text/html": [
       "<table class=\"dataframe\">\n",
       "<caption>A data.frame: 6 × 1</caption>\n",
       "<thead>\n",
       "\t<tr><th></th><th scope=col>populationTotal</th></tr>\n",
       "\t<tr><th></th><th scope=col>&lt;int&gt;</th></tr>\n",
       "</thead>\n",
       "<tbody>\n",
       "\t<tr><th scope=row>1</th><td>13</td></tr>\n",
       "\t<tr><th scope=row>2</th><td>16</td></tr>\n",
       "\t<tr><th scope=row>3</th><td>17</td></tr>\n",
       "\t<tr><th scope=row>4</th><td>11</td></tr>\n",
       "\t<tr><th scope=row>5</th><td> 1</td></tr>\n",
       "\t<tr><th scope=row>6</th><td> 6</td></tr>\n",
       "</tbody>\n",
       "</table>\n"
      ],
      "text/latex": [
       "A data.frame: 6 × 1\n",
       "\\begin{tabular}{r|l}\n",
       "  & populationTotal\\\\\n",
       "  & <int>\\\\\n",
       "\\hline\n",
       "\t1 & 13\\\\\n",
       "\t2 & 16\\\\\n",
       "\t3 & 17\\\\\n",
       "\t4 & 11\\\\\n",
       "\t5 &  1\\\\\n",
       "\t6 &  6\\\\\n",
       "\\end{tabular}\n"
      ],
      "text/markdown": [
       "\n",
       "A data.frame: 6 × 1\n",
       "\n",
       "| <!--/--> | populationTotal &lt;int&gt; |\n",
       "|---|---|\n",
       "| 1 | 13 |\n",
       "| 2 | 16 |\n",
       "| 3 | 17 |\n",
       "| 4 | 11 |\n",
       "| 5 |  1 |\n",
       "| 6 |  6 |\n",
       "\n"
      ],
      "text/plain": [
       "  populationTotal\n",
       "1 13             \n",
       "2 16             \n",
       "3 17             \n",
       "4 11             \n",
       "5  1             \n",
       "6  6             "
      ]
     },
     "metadata": {},
     "output_type": "display_data"
    }
   ],
   "source": [
    "populationTotal <- censusData[, 'P1', drop = FALSE]\n",
    "names(populationTotal)[1] <- 'populationTotal'\n",
    "head(populationTotal)"
   ]
  },
  {
   "attachments": {},
   "cell_type": "markdown",
   "metadata": {},
   "source": [
    "#### Households / families total"
   ]
  },
  {
   "cell_type": "code",
   "execution_count": 6,
   "metadata": {},
   "outputs": [
    {
     "data": {
      "text/html": [
       "<table class=\"dataframe\">\n",
       "<caption>A data.frame: 6 × 1</caption>\n",
       "<thead>\n",
       "\t<tr><th></th><th scope=col>householdsTotal</th></tr>\n",
       "\t<tr><th></th><th scope=col>&lt;int&gt;</th></tr>\n",
       "</thead>\n",
       "<tbody>\n",
       "\t<tr><th scope=row>1</th><td> 9</td></tr>\n",
       "\t<tr><th scope=row>2</th><td> 7</td></tr>\n",
       "\t<tr><th scope=row>3</th><td>17</td></tr>\n",
       "\t<tr><th scope=row>4</th><td> 7</td></tr>\n",
       "\t<tr><th scope=row>5</th><td> 1</td></tr>\n",
       "\t<tr><th scope=row>6</th><td> 3</td></tr>\n",
       "</tbody>\n",
       "</table>\n"
      ],
      "text/latex": [
       "A data.frame: 6 × 1\n",
       "\\begin{tabular}{r|l}\n",
       "  & householdsTotal\\\\\n",
       "  & <int>\\\\\n",
       "\\hline\n",
       "\t1 &  9\\\\\n",
       "\t2 &  7\\\\\n",
       "\t3 & 17\\\\\n",
       "\t4 &  7\\\\\n",
       "\t5 &  1\\\\\n",
       "\t6 &  3\\\\\n",
       "\\end{tabular}\n"
      ],
      "text/markdown": [
       "\n",
       "A data.frame: 6 × 1\n",
       "\n",
       "| <!--/--> | householdsTotal &lt;int&gt; |\n",
       "|---|---|\n",
       "| 1 |  9 |\n",
       "| 2 |  7 |\n",
       "| 3 | 17 |\n",
       "| 4 |  7 |\n",
       "| 5 |  1 |\n",
       "| 6 |  3 |\n",
       "\n"
      ],
      "text/plain": [
       "  householdsTotal\n",
       "1  9             \n",
       "2  7             \n",
       "3 17             \n",
       "4  7             \n",
       "5  1             \n",
       "6  3             "
      ]
     },
     "metadata": {},
     "output_type": "display_data"
    }
   ],
   "source": [
    "householdsTotal <- censusData[, 'PF1', drop = FALSE]\n",
    "names(householdsTotal)[1] <- 'householdsTotal'\n",
    "head(householdsTotal)"
   ]
  },
  {
   "cell_type": "markdown",
   "metadata": {},
   "source": [
    "### Sensitivity dimension data"
   ]
  },
  {
   "cell_type": "markdown",
   "metadata": {},
   "source": [
    "#### Age domain data"
   ]
  },
  {
   "cell_type": "code",
   "execution_count": 7,
   "metadata": {},
   "outputs": [
    {
     "data": {
      "text/html": [
       "<table class=\"dataframe\">\n",
       "<caption>A data.frame: 6 × 4</caption>\n",
       "<thead>\n",
       "\t<tr><th></th><th scope=col>youngMalePct</th><th scope=col>youngFemalePct</th><th scope=col>oldMalePct</th><th scope=col>oldFemalePct</th></tr>\n",
       "\t<tr><th></th><th scope=col>&lt;dbl&gt;</th><th scope=col>&lt;dbl&gt;</th><th scope=col>&lt;dbl&gt;</th><th scope=col>&lt;dbl&gt;</th></tr>\n",
       "</thead>\n",
       "<tbody>\n",
       "\t<tr><th scope=row>1</th><td>0</td><td>0</td><td> 15.38462</td><td>0.00</td></tr>\n",
       "\t<tr><th scope=row>2</th><td>0</td><td>0</td><td>  6.25000</td><td>6.25</td></tr>\n",
       "\t<tr><th scope=row>3</th><td>0</td><td>0</td><td> 23.52941</td><td>0.00</td></tr>\n",
       "\t<tr><th scope=row>4</th><td>0</td><td>0</td><td> 18.18182</td><td>0.00</td></tr>\n",
       "\t<tr><th scope=row>5</th><td>0</td><td>0</td><td>100.00000</td><td>0.00</td></tr>\n",
       "\t<tr><th scope=row>6</th><td>0</td><td>0</td><td>  0.00000</td><td>0.00</td></tr>\n",
       "</tbody>\n",
       "</table>\n"
      ],
      "text/latex": [
       "A data.frame: 6 × 4\n",
       "\\begin{tabular}{r|llll}\n",
       "  & youngMalePct & youngFemalePct & oldMalePct & oldFemalePct\\\\\n",
       "  & <dbl> & <dbl> & <dbl> & <dbl>\\\\\n",
       "\\hline\n",
       "\t1 & 0 & 0 &  15.38462 & 0.00\\\\\n",
       "\t2 & 0 & 0 &   6.25000 & 6.25\\\\\n",
       "\t3 & 0 & 0 &  23.52941 & 0.00\\\\\n",
       "\t4 & 0 & 0 &  18.18182 & 0.00\\\\\n",
       "\t5 & 0 & 0 & 100.00000 & 0.00\\\\\n",
       "\t6 & 0 & 0 &   0.00000 & 0.00\\\\\n",
       "\\end{tabular}\n"
      ],
      "text/markdown": [
       "\n",
       "A data.frame: 6 × 4\n",
       "\n",
       "| <!--/--> | youngMalePct &lt;dbl&gt; | youngFemalePct &lt;dbl&gt; | oldMalePct &lt;dbl&gt; | oldFemalePct &lt;dbl&gt; |\n",
       "|---|---|---|---|---|\n",
       "| 1 | 0 | 0 |  15.38462 | 0.00 |\n",
       "| 2 | 0 | 0 |   6.25000 | 6.25 |\n",
       "| 3 | 0 | 0 |  23.52941 | 0.00 |\n",
       "| 4 | 0 | 0 |  18.18182 | 0.00 |\n",
       "| 5 | 0 | 0 | 100.00000 | 0.00 |\n",
       "| 6 | 0 | 0 |   0.00000 | 0.00 |\n",
       "\n"
      ],
      "text/plain": [
       "  youngMalePct youngFemalePct oldMalePct oldFemalePct\n",
       "1 0            0               15.38462  0.00        \n",
       "2 0            0                6.25000  6.25        \n",
       "3 0            0               23.52941  0.00        \n",
       "4 0            0               18.18182  0.00        \n",
       "5 0            0              100.00000  0.00        \n",
       "6 0            0                0.00000  0.00        "
      ]
     },
     "metadata": {},
     "output_type": "display_data"
    }
   ],
   "source": [
    "# Dimension:Sensitivity - Domain:Age\n",
    "\n",
    "# Get indicators and convert into percentage\n",
    "## 1) Boys under 5 years of age (Indicator P30)\n",
    "youthMalePct <- (censusData['P30'] / populationTotal) * 100.0\n",
    "names(youthMalePct)[1] <- 'youngMalePct'\n",
    "\n",
    "## 2) Girls under 5 years of age (Indicator P67)\n",
    "youthFemalePct <- (censusData['P67'] / populationTotal) * 100.0\n",
    "names(youthFemalePct)[1] <- 'youngFemalePct'\n",
    "\n",
    "## 3) Men over 75 years of age (Indicator P45)\n",
    "oldMalePct <- (censusData['P45'] / populationTotal) * 100.0\n",
    "names(oldMalePct)[1] <- 'oldMalePct'\n",
    "\n",
    "## 4) Women over 75 years of age (Indicator P82)\n",
    "oldFemalePct <- (censusData['P82'] / populationTotal) * 100.0\n",
    "names(oldFemalePct)[1] <- 'oldFemalePct'\n",
    "\n",
    "# Combine all these indicators into an array for this domain\n",
    "ageDomainPct <- cbind(youthMalePct,\n",
    "                      youthFemalePct,\n",
    "                      oldMalePct,\n",
    "                      oldFemalePct)\n",
    "\n",
    "# Print the first six rows of the data to visually check it looks OK\n",
    "head(ageDomainPct)"
   ]
  },
  {
   "attachments": {},
   "cell_type": "markdown",
   "metadata": {},
   "source": [
    "### Adaptive Capacity dimension data"
   ]
  },
  {
   "cell_type": "markdown",
   "metadata": {},
   "source": [
    "#### Income domain data"
   ]
  },
  {
   "cell_type": "code",
   "execution_count": 8,
   "metadata": {},
   "outputs": [
    {
     "data": {
      "text/html": [
       "<table class=\"dataframe\">\n",
       "<caption>A data.frame: 6 × 2</caption>\n",
       "<thead>\n",
       "\t<tr><th></th><th scope=col>dependantsRatePct</th><th scope=col>unemployedPct</th></tr>\n",
       "\t<tr><th></th><th scope=col>&lt;dbl&gt;</th><th scope=col>&lt;dbl&gt;</th></tr>\n",
       "</thead>\n",
       "<tbody>\n",
       "\t<tr><th scope=row>1</th><td> 7.692308</td><td>15.384615</td></tr>\n",
       "\t<tr><th scope=row>2</th><td>12.500000</td><td>31.250000</td></tr>\n",
       "\t<tr><th scope=row>3</th><td> 0.000000</td><td>17.647059</td></tr>\n",
       "\t<tr><th scope=row>4</th><td> 9.090909</td><td> 9.090909</td></tr>\n",
       "\t<tr><th scope=row>5</th><td> 0.000000</td><td> 0.000000</td></tr>\n",
       "\t<tr><th scope=row>6</th><td> 0.000000</td><td> 0.000000</td></tr>\n",
       "</tbody>\n",
       "</table>\n"
      ],
      "text/latex": [
       "A data.frame: 6 × 2\n",
       "\\begin{tabular}{r|ll}\n",
       "  & dependantsRatePct & unemployedPct\\\\\n",
       "  & <dbl> & <dbl>\\\\\n",
       "\\hline\n",
       "\t1 &  7.692308 & 15.384615\\\\\n",
       "\t2 & 12.500000 & 31.250000\\\\\n",
       "\t3 &  0.000000 & 17.647059\\\\\n",
       "\t4 &  9.090909 &  9.090909\\\\\n",
       "\t5 &  0.000000 &  0.000000\\\\\n",
       "\t6 &  0.000000 &  0.000000\\\\\n",
       "\\end{tabular}\n"
      ],
      "text/markdown": [
       "\n",
       "A data.frame: 6 × 2\n",
       "\n",
       "| <!--/--> | dependantsRatePct &lt;dbl&gt; | unemployedPct &lt;dbl&gt; |\n",
       "|---|---|---|\n",
       "| 1 |  7.692308 | 15.384615 |\n",
       "| 2 | 12.500000 | 31.250000 |\n",
       "| 3 |  0.000000 | 17.647059 |\n",
       "| 4 |  9.090909 |  9.090909 |\n",
       "| 5 |  0.000000 |  0.000000 |\n",
       "| 6 |  0.000000 |  0.000000 |\n",
       "\n"
      ],
      "text/plain": [
       "  dependantsRatePct unemployedPct\n",
       "1  7.692308         15.384615    \n",
       "2 12.500000         31.250000    \n",
       "3  0.000000         17.647059    \n",
       "4  9.090909          9.090909    \n",
       "5  0.000000          0.000000    \n",
       "6  0.000000          0.000000    "
      ]
     },
     "metadata": {},
     "output_type": "display_data"
    }
   ],
   "source": [
    "# Dimension Adaptive:Capacity - Domain:Income\n",
    "\n",
    "# Get indicators and convert into percentage\n",
    "## 1) Dependants Rate (% people under 16) - using under 15 for the 2022 Italian census\n",
    "dependantsRateFields <- c('P14', 'P15', 'P16')\n",
    "dependantsRateData <- censusData[, dependantsRateFields, drop = FALSE]\n",
    "dependantsRate <- rowSums(dependantsRateData, na.rm=TRUE)\n",
    "dependantsRatePct <- (dependantsRate / populationTotal) * 100.0\n",
    "names(dependantsRatePct)[1] <- 'dependantsRatePct'\n",
    "\n",
    "## 2) Unemployment population\n",
    "### Calculate total poluation for ages 15-64.\n",
    "### Note: P101 = total employed people aged 15-64.\n",
    "### Note: Sum of P17, P18, P19, P20, P21, P22, P23, P24, P25 and P26 is total poluation for ages 15-64.\n",
    "### Note: to calculate unemployed we use: P101 - total poluation for ages 15-64.\n",
    "### Note: this unemployed figure might also indicate students not working\n",
    "totalPopulation_15to64_Indicators <- c('P17','P18','P19','P20','P21','P22','P23','P24','P25','P26')\n",
    "totalPopulation_15to64_Data <- censusData[, totalPopulation_15to64_Indicators, drop = FALSE]\n",
    "totalPopulation_15to64 <- rowSums(totalPopulation_15to64_Data, na.rm=TRUE)\n",
    "unemployed <- totalPopulation_15to64 - censusData$P101\n",
    "unemployedPct <- (unemployed / populationTotal) * 100.0\n",
    "names(unemployedPct)[1] <- 'unemployedPct'\n",
    "\n",
    "# Combine all these indicators into an array for this domain\n",
    "incomeDomainPct <- cbind(dependantsRatePct,\n",
    "                         unemployedPct)\n",
    "\n",
    "# Print the first six rows of the data to visually check it looks OK\n",
    "head(incomeDomainPct)"
   ]
  },
  {
   "cell_type": "markdown",
   "metadata": {},
   "source": [
    "#### Information Access/Use domain data"
   ]
  },
  {
   "cell_type": "code",
   "execution_count": 9,
   "metadata": {},
   "outputs": [
    {
     "data": {
      "text/html": [
       "<table class=\"dataframe\">\n",
       "<caption>A data.frame: 6 × 1</caption>\n",
       "<thead>\n",
       "\t<tr><th></th><th scope=col>noHigherEductationPct</th></tr>\n",
       "\t<tr><th></th><th scope=col>&lt;dbl&gt;</th></tr>\n",
       "</thead>\n",
       "<tbody>\n",
       "\t<tr><th scope=row>1</th><td> 7.692308</td></tr>\n",
       "\t<tr><th scope=row>2</th><td>18.750000</td></tr>\n",
       "\t<tr><th scope=row>3</th><td> 0.000000</td></tr>\n",
       "\t<tr><th scope=row>4</th><td> 0.000000</td></tr>\n",
       "\t<tr><th scope=row>5</th><td> 0.000000</td></tr>\n",
       "\t<tr><th scope=row>6</th><td> 0.000000</td></tr>\n",
       "</tbody>\n",
       "</table>\n"
      ],
      "text/latex": [
       "A data.frame: 6 × 1\n",
       "\\begin{tabular}{r|l}\n",
       "  & noHigherEductationPct\\\\\n",
       "  & <dbl>\\\\\n",
       "\\hline\n",
       "\t1 &  7.692308\\\\\n",
       "\t2 & 18.750000\\\\\n",
       "\t3 &  0.000000\\\\\n",
       "\t4 &  0.000000\\\\\n",
       "\t5 &  0.000000\\\\\n",
       "\t6 &  0.000000\\\\\n",
       "\\end{tabular}\n"
      ],
      "text/markdown": [
       "\n",
       "A data.frame: 6 × 1\n",
       "\n",
       "| <!--/--> | noHigherEductationPct &lt;dbl&gt; |\n",
       "|---|---|\n",
       "| 1 |  7.692308 |\n",
       "| 2 | 18.750000 |\n",
       "| 3 |  0.000000 |\n",
       "| 4 |  0.000000 |\n",
       "| 5 |  0.000000 |\n",
       "| 6 |  0.000000 |\n",
       "\n"
      ],
      "text/plain": [
       "  noHigherEductationPct\n",
       "1  7.692308            \n",
       "2 18.750000            \n",
       "3  0.000000            \n",
       "4  0.000000            \n",
       "5  0.000000            \n",
       "6  0.000000            "
      ]
     },
     "metadata": {},
     "output_type": "display_data"
    }
   ],
   "source": [
    "# Dimension Adaptive:Capacity - Domain:Information Access/Use\n",
    "\n",
    "# Get indicators and convert into percentage\n",
    "## 1) Population with NO higher eductation\n",
    "### Note: P83\t(total population age 9+) = P86 + P87 + P88 + P89 + P90 (without qualification + all primary to highest education levels)\n",
    "### Note: P83 (total population age 9+) = P16 + P17+ P18 + P19 + P20 + P21 + P22 + P23 + P24 + P25 + P26 + P27 + P28 + P29 (age 10+)\n",
    "### Note: using without qualification (P86) + primary/elementary schools qualification only (P87) \n",
    "noHigherEductationIndicators <- c('P86','P87')\n",
    "noHigherEductation <- censusData$P86 + censusData$P87\n",
    "noHigherEductationPct <- (noHigherEductation / populationTotal) * 100.0\n",
    "names(noHigherEductationPct)[1] <- 'noHigherEductationPct'\n",
    "\n",
    "# Combine all these indicators into an array for this domain\n",
    "informationAccessUseDomainPct <- cbind(noHigherEductationPct)\n",
    "\n",
    "# Print the first six rows of the data to visually check it looks OK\n",
    "head(informationAccessUseDomainPct)"
   ]
  },
  {
   "cell_type": "markdown",
   "metadata": {},
   "source": [
    "#### Local knowledge domain"
   ]
  },
  {
   "cell_type": "code",
   "execution_count": 10,
   "metadata": {},
   "outputs": [
    {
     "data": {
      "text/html": [
       "<table class=\"dataframe\">\n",
       "<caption>A data.frame: 6 × 1</caption>\n",
       "<thead>\n",
       "\t<tr><th></th><th scope=col>foreignNationalsPct</th></tr>\n",
       "\t<tr><th></th><th scope=col>&lt;dbl&gt;</th></tr>\n",
       "</thead>\n",
       "<tbody>\n",
       "\t<tr><th scope=row>1</th><td>23.07692</td></tr>\n",
       "\t<tr><th scope=row>2</th><td>31.25000</td></tr>\n",
       "\t<tr><th scope=row>3</th><td> 0.00000</td></tr>\n",
       "\t<tr><th scope=row>4</th><td>18.18182</td></tr>\n",
       "\t<tr><th scope=row>5</th><td> 0.00000</td></tr>\n",
       "\t<tr><th scope=row>6</th><td>66.66667</td></tr>\n",
       "</tbody>\n",
       "</table>\n"
      ],
      "text/latex": [
       "A data.frame: 6 × 1\n",
       "\\begin{tabular}{r|l}\n",
       "  & foreignNationalsPct\\\\\n",
       "  & <dbl>\\\\\n",
       "\\hline\n",
       "\t1 & 23.07692\\\\\n",
       "\t2 & 31.25000\\\\\n",
       "\t3 &  0.00000\\\\\n",
       "\t4 & 18.18182\\\\\n",
       "\t5 &  0.00000\\\\\n",
       "\t6 & 66.66667\\\\\n",
       "\\end{tabular}\n"
      ],
      "text/markdown": [
       "\n",
       "A data.frame: 6 × 1\n",
       "\n",
       "| <!--/--> | foreignNationalsPct &lt;dbl&gt; |\n",
       "|---|---|\n",
       "| 1 | 23.07692 |\n",
       "| 2 | 31.25000 |\n",
       "| 3 |  0.00000 |\n",
       "| 4 | 18.18182 |\n",
       "| 5 |  0.00000 |\n",
       "| 6 | 66.66667 |\n",
       "\n"
      ],
      "text/plain": [
       "  foreignNationalsPct\n",
       "1 23.07692           \n",
       "2 31.25000           \n",
       "3  0.00000           \n",
       "4 18.18182           \n",
       "5  0.00000           \n",
       "6 66.66667           "
      ]
     },
     "metadata": {},
     "output_type": "display_data"
    }
   ],
   "source": [
    "# Dimension:Adaptive Capacity - Domain:Local Knowledge\n",
    "\n",
    "# Get indicators and convert into percentage\n",
    "## 1) Percentage of foreign nationals (ST1)\n",
    "foreignNationalsPct <- (censusData['ST1'] / populationTotal) * 100.0\n",
    "names(foreignNationalsPct)[1] <- 'foreignNationalsPct'\n",
    "\n",
    "# Combine all these indicators into an array for this domain\n",
    "localKnowledgeDomainPct <- cbind(foreignNationalsPct)\n",
    "\n",
    "# Print the first six rows of the data to visually check it looks OK\n",
    "head(localKnowledgeDomainPct)"
   ]
  },
  {
   "cell_type": "markdown",
   "metadata": {},
   "source": [
    "#### Social Network domain data"
   ]
  },
  {
   "cell_type": "code",
   "execution_count": 11,
   "metadata": {
    "scrolled": true
   },
   "outputs": [
    {
     "data": {
      "text/html": [
       "<table class=\"dataframe\">\n",
       "<caption>A data.frame: 6 × 2</caption>\n",
       "<thead>\n",
       "\t<tr><th></th><th scope=col>primarySchoolPct</th><th scope=col>onePersonHouseholdPct</th></tr>\n",
       "\t<tr><th></th><th scope=col>&lt;dbl&gt;</th><th scope=col>&lt;dbl&gt;</th></tr>\n",
       "</thead>\n",
       "<tbody>\n",
       "\t<tr><th scope=row>1</th><td>0.000000</td><td> 66.66667</td></tr>\n",
       "\t<tr><th scope=row>2</th><td>0.000000</td><td> 42.85714</td></tr>\n",
       "\t<tr><th scope=row>3</th><td>0.000000</td><td>100.00000</td></tr>\n",
       "\t<tr><th scope=row>4</th><td>9.090909</td><td> 57.14286</td></tr>\n",
       "\t<tr><th scope=row>5</th><td>0.000000</td><td>100.00000</td></tr>\n",
       "\t<tr><th scope=row>6</th><td>0.000000</td><td> 66.66667</td></tr>\n",
       "</tbody>\n",
       "</table>\n"
      ],
      "text/latex": [
       "A data.frame: 6 × 2\n",
       "\\begin{tabular}{r|ll}\n",
       "  & primarySchoolPct & onePersonHouseholdPct\\\\\n",
       "  & <dbl> & <dbl>\\\\\n",
       "\\hline\n",
       "\t1 & 0.000000 &  66.66667\\\\\n",
       "\t2 & 0.000000 &  42.85714\\\\\n",
       "\t3 & 0.000000 & 100.00000\\\\\n",
       "\t4 & 9.090909 &  57.14286\\\\\n",
       "\t5 & 0.000000 & 100.00000\\\\\n",
       "\t6 & 0.000000 &  66.66667\\\\\n",
       "\\end{tabular}\n"
      ],
      "text/markdown": [
       "\n",
       "A data.frame: 6 × 2\n",
       "\n",
       "| <!--/--> | primarySchoolPct &lt;dbl&gt; | onePersonHouseholdPct &lt;dbl&gt; |\n",
       "|---|---|---|\n",
       "| 1 | 0.000000 |  66.66667 |\n",
       "| 2 | 0.000000 |  42.85714 |\n",
       "| 3 | 0.000000 | 100.00000 |\n",
       "| 4 | 9.090909 |  57.14286 |\n",
       "| 5 | 0.000000 | 100.00000 |\n",
       "| 6 | 0.000000 |  66.66667 |\n",
       "\n"
      ],
      "text/plain": [
       "  primarySchoolPct onePersonHouseholdPct\n",
       "1 0.000000          66.66667            \n",
       "2 0.000000          42.85714            \n",
       "3 0.000000         100.00000            \n",
       "4 9.090909          57.14286            \n",
       "5 0.000000         100.00000            \n",
       "6 0.000000          66.66667            "
      ]
     },
     "metadata": {},
     "output_type": "display_data"
    }
   ],
   "source": [
    "# Dimension Adaptive:Capacity - Domain:Social Network\n",
    "\n",
    "# Get indicators and convert into percentage\n",
    "## 1) Primary School Age Children (Age 5-9) (Indicator P15)\n",
    "primarySchoolPct <- (censusData['P15'] / populationTotal) * 100.0\n",
    "names(primarySchoolPct)[1] <- 'primarySchoolPct'\n",
    "\n",
    "## 2) Households with one person (Indicator PF3)\n",
    "onePersonHouseholdPct <- (censusData['PF3'] / householdsTotal) * 100.0\n",
    "names(onePersonHouseholdPct)[1] <- 'onePersonHouseholdPct'\n",
    "\n",
    "# Combine all these indicators into an array for this domain\n",
    "socialNetworkDomainPct <- cbind(primarySchoolPct,\n",
    "                                onePersonHouseholdPct)\n",
    "\n",
    "# Print the first six rows of the data to visually check it looks OK\n",
    "head(socialNetworkDomainPct)"
   ]
  },
  {
   "cell_type": "markdown",
   "metadata": {},
   "source": [
    "### Combine all data into one table"
   ]
  },
  {
   "cell_type": "code",
   "execution_count": 12,
   "metadata": {},
   "outputs": [
    {
     "data": {
      "text/html": [
       "<table class=\"dataframe\">\n",
       "<caption>A data.frame: 6 × 11</caption>\n",
       "<thead>\n",
       "\t<tr><th></th><th scope=col>SEZ2011</th><th scope=col>youngMalePct</th><th scope=col>youngFemalePct</th><th scope=col>oldMalePct</th><th scope=col>oldFemalePct</th><th scope=col>dependantsRatePct</th><th scope=col>unemployedPct</th><th scope=col>noHigherEductationPct</th><th scope=col>foreignNationalsPct</th><th scope=col>primarySchoolPct</th><th scope=col>onePersonHouseholdPct</th></tr>\n",
       "\t<tr><th></th><th scope=col>&lt;dbl&gt;</th><th scope=col>&lt;dbl&gt;</th><th scope=col>&lt;dbl&gt;</th><th scope=col>&lt;dbl&gt;</th><th scope=col>&lt;dbl&gt;</th><th scope=col>&lt;dbl&gt;</th><th scope=col>&lt;dbl&gt;</th><th scope=col>&lt;dbl&gt;</th><th scope=col>&lt;dbl&gt;</th><th scope=col>&lt;dbl&gt;</th><th scope=col>&lt;dbl&gt;</th></tr>\n",
       "</thead>\n",
       "<tbody>\n",
       "\t<tr><th scope=row>1</th><td>1.5146e+11</td><td>0</td><td>0</td><td> 15.38462</td><td>0.00</td><td> 7.692308</td><td>15.384615</td><td> 7.692308</td><td>23.07692</td><td>0.000000</td><td> 66.66667</td></tr>\n",
       "\t<tr><th scope=row>2</th><td>1.5146e+11</td><td>0</td><td>0</td><td>  6.25000</td><td>6.25</td><td>12.500000</td><td>31.250000</td><td>18.750000</td><td>31.25000</td><td>0.000000</td><td> 42.85714</td></tr>\n",
       "\t<tr><th scope=row>3</th><td>1.5146e+11</td><td>0</td><td>0</td><td> 23.52941</td><td>0.00</td><td> 0.000000</td><td>17.647059</td><td> 0.000000</td><td> 0.00000</td><td>0.000000</td><td>100.00000</td></tr>\n",
       "\t<tr><th scope=row>4</th><td>1.5146e+11</td><td>0</td><td>0</td><td> 18.18182</td><td>0.00</td><td> 9.090909</td><td> 9.090909</td><td> 0.000000</td><td>18.18182</td><td>9.090909</td><td> 57.14286</td></tr>\n",
       "\t<tr><th scope=row>5</th><td>1.5146e+11</td><td>0</td><td>0</td><td>100.00000</td><td>0.00</td><td> 0.000000</td><td> 0.000000</td><td> 0.000000</td><td> 0.00000</td><td>0.000000</td><td>100.00000</td></tr>\n",
       "\t<tr><th scope=row>6</th><td>1.5146e+11</td><td>0</td><td>0</td><td>  0.00000</td><td>0.00</td><td> 0.000000</td><td> 0.000000</td><td> 0.000000</td><td>66.66667</td><td>0.000000</td><td> 66.66667</td></tr>\n",
       "</tbody>\n",
       "</table>\n"
      ],
      "text/latex": [
       "A data.frame: 6 × 11\n",
       "\\begin{tabular}{r|lllllllllll}\n",
       "  & SEZ2011 & youngMalePct & youngFemalePct & oldMalePct & oldFemalePct & dependantsRatePct & unemployedPct & noHigherEductationPct & foreignNationalsPct & primarySchoolPct & onePersonHouseholdPct\\\\\n",
       "  & <dbl> & <dbl> & <dbl> & <dbl> & <dbl> & <dbl> & <dbl> & <dbl> & <dbl> & <dbl> & <dbl>\\\\\n",
       "\\hline\n",
       "\t1 & 1.5146e+11 & 0 & 0 &  15.38462 & 0.00 &  7.692308 & 15.384615 &  7.692308 & 23.07692 & 0.000000 &  66.66667\\\\\n",
       "\t2 & 1.5146e+11 & 0 & 0 &   6.25000 & 6.25 & 12.500000 & 31.250000 & 18.750000 & 31.25000 & 0.000000 &  42.85714\\\\\n",
       "\t3 & 1.5146e+11 & 0 & 0 &  23.52941 & 0.00 &  0.000000 & 17.647059 &  0.000000 &  0.00000 & 0.000000 & 100.00000\\\\\n",
       "\t4 & 1.5146e+11 & 0 & 0 &  18.18182 & 0.00 &  9.090909 &  9.090909 &  0.000000 & 18.18182 & 9.090909 &  57.14286\\\\\n",
       "\t5 & 1.5146e+11 & 0 & 0 & 100.00000 & 0.00 &  0.000000 &  0.000000 &  0.000000 &  0.00000 & 0.000000 & 100.00000\\\\\n",
       "\t6 & 1.5146e+11 & 0 & 0 &   0.00000 & 0.00 &  0.000000 &  0.000000 &  0.000000 & 66.66667 & 0.000000 &  66.66667\\\\\n",
       "\\end{tabular}\n"
      ],
      "text/markdown": [
       "\n",
       "A data.frame: 6 × 11\n",
       "\n",
       "| <!--/--> | SEZ2011 &lt;dbl&gt; | youngMalePct &lt;dbl&gt; | youngFemalePct &lt;dbl&gt; | oldMalePct &lt;dbl&gt; | oldFemalePct &lt;dbl&gt; | dependantsRatePct &lt;dbl&gt; | unemployedPct &lt;dbl&gt; | noHigherEductationPct &lt;dbl&gt; | foreignNationalsPct &lt;dbl&gt; | primarySchoolPct &lt;dbl&gt; | onePersonHouseholdPct &lt;dbl&gt; |\n",
       "|---|---|---|---|---|---|---|---|---|---|---|---|\n",
       "| 1 | 1.5146e+11 | 0 | 0 |  15.38462 | 0.00 |  7.692308 | 15.384615 |  7.692308 | 23.07692 | 0.000000 |  66.66667 |\n",
       "| 2 | 1.5146e+11 | 0 | 0 |   6.25000 | 6.25 | 12.500000 | 31.250000 | 18.750000 | 31.25000 | 0.000000 |  42.85714 |\n",
       "| 3 | 1.5146e+11 | 0 | 0 |  23.52941 | 0.00 |  0.000000 | 17.647059 |  0.000000 |  0.00000 | 0.000000 | 100.00000 |\n",
       "| 4 | 1.5146e+11 | 0 | 0 |  18.18182 | 0.00 |  9.090909 |  9.090909 |  0.000000 | 18.18182 | 9.090909 |  57.14286 |\n",
       "| 5 | 1.5146e+11 | 0 | 0 | 100.00000 | 0.00 |  0.000000 |  0.000000 |  0.000000 |  0.00000 | 0.000000 | 100.00000 |\n",
       "| 6 | 1.5146e+11 | 0 | 0 |   0.00000 | 0.00 |  0.000000 |  0.000000 |  0.000000 | 66.66667 | 0.000000 |  66.66667 |\n",
       "\n"
      ],
      "text/plain": [
       "  SEZ2011    youngMalePct youngFemalePct oldMalePct oldFemalePct\n",
       "1 1.5146e+11 0            0               15.38462  0.00        \n",
       "2 1.5146e+11 0            0                6.25000  6.25        \n",
       "3 1.5146e+11 0            0               23.52941  0.00        \n",
       "4 1.5146e+11 0            0               18.18182  0.00        \n",
       "5 1.5146e+11 0            0              100.00000  0.00        \n",
       "6 1.5146e+11 0            0                0.00000  0.00        \n",
       "  dependantsRatePct unemployedPct noHigherEductationPct foreignNationalsPct\n",
       "1  7.692308         15.384615      7.692308             23.07692           \n",
       "2 12.500000         31.250000     18.750000             31.25000           \n",
       "3  0.000000         17.647059      0.000000              0.00000           \n",
       "4  9.090909          9.090909      0.000000             18.18182           \n",
       "5  0.000000          0.000000      0.000000              0.00000           \n",
       "6  0.000000          0.000000      0.000000             66.66667           \n",
       "  primarySchoolPct onePersonHouseholdPct\n",
       "1 0.000000          66.66667            \n",
       "2 0.000000          42.85714            \n",
       "3 0.000000         100.00000            \n",
       "4 9.090909          57.14286            \n",
       "5 0.000000         100.00000            \n",
       "6 0.000000          66.66667            "
      ]
     },
     "metadata": {},
     "output_type": "display_data"
    }
   ],
   "source": [
    "# Combine all data into one table\n",
    "indicatorDataPct <- cbind(areaID,\n",
    "                          ageDomainPct,\n",
    "                          incomeDomainPct,\n",
    "                          informationAccessUseDomainPct,\n",
    "                          localKnowledgeDomainPct,\n",
    "                          socialNetworkDomainPct)\n",
    "head(indicatorDataPct)"
   ]
  },
  {
   "cell_type": "markdown",
   "metadata": {},
   "source": [
    "## Calculate Z-Score\n",
    "The raw data is not suitable for use within the vulnerabiltiy assessment. It needs to be standardised. Therefore, the data is converted to z-scores. Z-scores are:\n",
    "\n",
    ">\"A statistical measurement of a score's relationship to the mean (average value) in a group of scores. A Z-score of 0 means the score is the same as the mean (average value). A Z-score can be positive or negative, indicating whether it is above or below the mean and by how many standard deviations. Z-score standardisation represents the deviation of a raw score from its mean in standard deviation units.\" (Kazmierczak et al., 2015)"
   ]
  },
  {
   "cell_type": "markdown",
   "metadata": {},
   "source": [
    "### Calculate the Z-score"
   ]
  },
  {
   "cell_type": "code",
   "execution_count": 13,
   "metadata": {},
   "outputs": [
    {
     "data": {
      "text/html": [
       "<table class=\"dataframe\">\n",
       "<caption>A data.frame: 6 × 11</caption>\n",
       "<thead>\n",
       "\t<tr><th></th><th scope=col>SEZ2011</th><th scope=col>youngMalePct_Z</th><th scope=col>youngFemalePct_Z</th><th scope=col>oldMalePct_Z</th><th scope=col>oldFemalePct_Z</th><th scope=col>dependantsRatePct_Z</th><th scope=col>unemployedPct_Z</th><th scope=col>noHigherEductationPct_Z</th><th scope=col>foreignNationalsPct_Z</th><th scope=col>primarySchoolPct_Z</th><th scope=col>onePersonHouseholdPct_Z</th></tr>\n",
       "\t<tr><th></th><th scope=col>&lt;dbl&gt;</th><th scope=col>&lt;dbl[,1]&gt;</th><th scope=col>&lt;dbl[,1]&gt;</th><th scope=col>&lt;dbl[,1]&gt;</th><th scope=col>&lt;dbl[,1]&gt;</th><th scope=col>&lt;dbl[,1]&gt;</th><th scope=col>&lt;dbl[,1]&gt;</th><th scope=col>&lt;dbl[,1]&gt;</th><th scope=col>&lt;dbl[,1]&gt;</th><th scope=col>&lt;dbl[,1]&gt;</th><th scope=col>&lt;dbl[,1]&gt;</th></tr>\n",
       "</thead>\n",
       "<tbody>\n",
       "\t<tr><th scope=row>1</th><td>1.5146e+11</td><td>-1.230411</td><td>-1.064144</td><td> 2.1196292</td><td>-1.3062152</td><td>-0.7801407</td><td>-0.5060886</td><td>-0.6075338</td><td> 0.284861877</td><td>-1.458348</td><td> 0.9333249</td></tr>\n",
       "\t<tr><th scope=row>2</th><td>1.5146e+11</td><td>-1.230411</td><td>-1.064144</td><td> 0.2302043</td><td>-0.3189938</td><td> 0.1197864</td><td> 1.3419462</td><td> 0.8849880</td><td> 0.768744204</td><td>-1.458348</td><td>-0.7026211</td></tr>\n",
       "\t<tr><th scope=row>3</th><td>1.5146e+11</td><td>-1.230411</td><td>-1.064144</td><td> 3.8043177</td><td>-1.3062152</td><td>-2.2200240</td><td>-0.2425543</td><td>-1.6458099</td><td>-1.081394102</td><td>-1.458348</td><td> 3.2236494</td></tr>\n",
       "\t<tr><th scope=row>4</th><td>1.5146e+11</td><td>-1.230411</td><td>-1.064144</td><td> 2.6982091</td><td>-1.3062152</td><td>-0.5183437</td><td>-1.2391934</td><td>-1.6458099</td><td>-0.004949997</td><td> 1.865648</td><td> 0.2789465</td></tr>\n",
       "\t<tr><th scope=row>5</th><td>1.5146e+11</td><td>-1.230411</td><td>-1.064144</td><td>19.6216703</td><td>-1.3062152</td><td>-2.2200240</td><td>-2.2981224</td><td>-1.6458099</td><td>-1.081394102</td><td>-1.458348</td><td> 3.2236494</td></tr>\n",
       "\t<tr><th scope=row>6</th><td>1.5146e+11</td><td>-1.230411</td><td>-1.064144</td><td>-1.0625601</td><td>-1.3062152</td><td>-2.2200240</td><td>-2.2981224</td><td>-1.6458099</td><td> 2.865567617</td><td>-1.458348</td><td> 0.9333249</td></tr>\n",
       "</tbody>\n",
       "</table>\n"
      ],
      "text/latex": [
       "A data.frame: 6 × 11\n",
       "\\begin{tabular}{r|lllllllllll}\n",
       "  & SEZ2011 & youngMalePct\\_Z & youngFemalePct\\_Z & oldMalePct\\_Z & oldFemalePct\\_Z & dependantsRatePct\\_Z & unemployedPct\\_Z & noHigherEductationPct\\_Z & foreignNationalsPct\\_Z & primarySchoolPct\\_Z & onePersonHouseholdPct\\_Z\\\\\n",
       "  & <dbl> & <dbl{[},1{]}> & <dbl{[},1{]}> & <dbl{[},1{]}> & <dbl{[},1{]}> & <dbl{[},1{]}> & <dbl{[},1{]}> & <dbl{[},1{]}> & <dbl{[},1{]}> & <dbl{[},1{]}> & <dbl{[},1{]}>\\\\\n",
       "\\hline\n",
       "\t1 & 1.5146e+11 & -1.230411 & -1.064144 &  2.1196292 & -1.3062152 & -0.7801407 & -0.5060886 & -0.6075338 &  0.284861877 & -1.458348 &  0.9333249\\\\\n",
       "\t2 & 1.5146e+11 & -1.230411 & -1.064144 &  0.2302043 & -0.3189938 &  0.1197864 &  1.3419462 &  0.8849880 &  0.768744204 & -1.458348 & -0.7026211\\\\\n",
       "\t3 & 1.5146e+11 & -1.230411 & -1.064144 &  3.8043177 & -1.3062152 & -2.2200240 & -0.2425543 & -1.6458099 & -1.081394102 & -1.458348 &  3.2236494\\\\\n",
       "\t4 & 1.5146e+11 & -1.230411 & -1.064144 &  2.6982091 & -1.3062152 & -0.5183437 & -1.2391934 & -1.6458099 & -0.004949997 &  1.865648 &  0.2789465\\\\\n",
       "\t5 & 1.5146e+11 & -1.230411 & -1.064144 & 19.6216703 & -1.3062152 & -2.2200240 & -2.2981224 & -1.6458099 & -1.081394102 & -1.458348 &  3.2236494\\\\\n",
       "\t6 & 1.5146e+11 & -1.230411 & -1.064144 & -1.0625601 & -1.3062152 & -2.2200240 & -2.2981224 & -1.6458099 &  2.865567617 & -1.458348 &  0.9333249\\\\\n",
       "\\end{tabular}\n"
      ],
      "text/markdown": [
       "\n",
       "A data.frame: 6 × 11\n",
       "\n",
       "| <!--/--> | SEZ2011 &lt;dbl&gt; | youngMalePct_Z &lt;dbl[,1]&gt; | youngFemalePct_Z &lt;dbl[,1]&gt; | oldMalePct_Z &lt;dbl[,1]&gt; | oldFemalePct_Z &lt;dbl[,1]&gt; | dependantsRatePct_Z &lt;dbl[,1]&gt; | unemployedPct_Z &lt;dbl[,1]&gt; | noHigherEductationPct_Z &lt;dbl[,1]&gt; | foreignNationalsPct_Z &lt;dbl[,1]&gt; | primarySchoolPct_Z &lt;dbl[,1]&gt; | onePersonHouseholdPct_Z &lt;dbl[,1]&gt; |\n",
       "|---|---|---|---|---|---|---|---|---|---|---|---|\n",
       "| 1 | 1.5146e+11 | -1.230411 | -1.064144 |  2.1196292 | -1.3062152 | -0.7801407 | -0.5060886 | -0.6075338 |  0.284861877 | -1.458348 |  0.9333249 |\n",
       "| 2 | 1.5146e+11 | -1.230411 | -1.064144 |  0.2302043 | -0.3189938 |  0.1197864 |  1.3419462 |  0.8849880 |  0.768744204 | -1.458348 | -0.7026211 |\n",
       "| 3 | 1.5146e+11 | -1.230411 | -1.064144 |  3.8043177 | -1.3062152 | -2.2200240 | -0.2425543 | -1.6458099 | -1.081394102 | -1.458348 |  3.2236494 |\n",
       "| 4 | 1.5146e+11 | -1.230411 | -1.064144 |  2.6982091 | -1.3062152 | -0.5183437 | -1.2391934 | -1.6458099 | -0.004949997 |  1.865648 |  0.2789465 |\n",
       "| 5 | 1.5146e+11 | -1.230411 | -1.064144 | 19.6216703 | -1.3062152 | -2.2200240 | -2.2981224 | -1.6458099 | -1.081394102 | -1.458348 |  3.2236494 |\n",
       "| 6 | 1.5146e+11 | -1.230411 | -1.064144 | -1.0625601 | -1.3062152 | -2.2200240 | -2.2981224 | -1.6458099 |  2.865567617 | -1.458348 |  0.9333249 |\n",
       "\n"
      ],
      "text/plain": [
       "  SEZ2011    youngMalePct_Z youngFemalePct_Z oldMalePct_Z oldFemalePct_Z\n",
       "1 1.5146e+11 -1.230411      -1.064144         2.1196292   -1.3062152    \n",
       "2 1.5146e+11 -1.230411      -1.064144         0.2302043   -0.3189938    \n",
       "3 1.5146e+11 -1.230411      -1.064144         3.8043177   -1.3062152    \n",
       "4 1.5146e+11 -1.230411      -1.064144         2.6982091   -1.3062152    \n",
       "5 1.5146e+11 -1.230411      -1.064144        19.6216703   -1.3062152    \n",
       "6 1.5146e+11 -1.230411      -1.064144        -1.0625601   -1.3062152    \n",
       "  dependantsRatePct_Z unemployedPct_Z noHigherEductationPct_Z\n",
       "1 -0.7801407          -0.5060886      -0.6075338             \n",
       "2  0.1197864           1.3419462       0.8849880             \n",
       "3 -2.2200240          -0.2425543      -1.6458099             \n",
       "4 -0.5183437          -1.2391934      -1.6458099             \n",
       "5 -2.2200240          -2.2981224      -1.6458099             \n",
       "6 -2.2200240          -2.2981224      -1.6458099             \n",
       "  foreignNationalsPct_Z primarySchoolPct_Z onePersonHouseholdPct_Z\n",
       "1  0.284861877          -1.458348           0.9333249             \n",
       "2  0.768744204          -1.458348          -0.7026211             \n",
       "3 -1.081394102          -1.458348           3.2236494             \n",
       "4 -0.004949997           1.865648           0.2789465             \n",
       "5 -1.081394102          -1.458348           3.2236494             \n",
       "6  2.865567617          -1.458348           0.9333249             "
      ]
     },
     "metadata": {},
     "output_type": "display_data"
    }
   ],
   "source": [
    "# Copy the data\n",
    "indicatorDataZ <- indicatorDataPct\n",
    "\n",
    "# Get the number of columns in the data\n",
    "indicatorDataPctColLength = ncol(indicatorDataPct)\n",
    "\n",
    "# Calculate the z scores for each of the relevant columns - starting at the 2nd column\n",
    "for(col in names(indicatorDataZ)[2:indicatorDataPctColLength]) {\n",
    "  indicatorDataZ[paste0(col, \"_Z\")] = scale(indicatorDataZ[col])\n",
    "}\n",
    "\n",
    "# Remove the original data to leave only the area identifier and the z scores\n",
    "indicatorDataZ <- indicatorDataZ[-c(2:indicatorDataPctColLength)]\n",
    "\n",
    "head(indicatorDataZ)"
   ]
  },
  {
   "cell_type": "markdown",
   "metadata": {},
   "source": [
    "### Output the Z-score data"
   ]
  },
  {
   "cell_type": "code",
   "execution_count": 14,
   "metadata": {},
   "outputs": [],
   "source": [
    "# remove the Pct_Z in the filed names\n",
    "names(indicatorDataZ) <- gsub(\"Pct_Z\",\"\",names(indicatorDataZ))\n",
    "\n",
    "# Output the z-score data as a csv file\n",
    "outputFile <- file.path(pipelineDir, \"censusDataZ.csv\")\n",
    "write.csv(indicatorDataZ, outputFile, row.names = FALSE)"
   ]
  },
  {
   "cell_type": "markdown",
   "metadata": {},
   "source": [
    "**END**"
   ]
  }
 ],
 "metadata": {
  "kernelspec": {
   "display_name": "R",
   "language": "R",
   "name": "ir"
  },
  "language_info": {
   "codemirror_mode": "r",
   "file_extension": ".r",
   "mimetype": "text/x-r-source",
   "name": "R",
   "pygments_lexer": "r",
   "version": "4.1.3"
  },
  "toc": {
   "base_numbering": 1,
   "nav_menu": {},
   "number_sections": true,
   "sideBar": true,
   "skip_h1_title": false,
   "title_cell": "Table of Contents",
   "title_sidebar": "Contents",
   "toc_cell": false,
   "toc_position": {},
   "toc_section_display": true,
   "toc_window_display": false
  }
 },
 "nbformat": 4,
 "nbformat_minor": 4
}
